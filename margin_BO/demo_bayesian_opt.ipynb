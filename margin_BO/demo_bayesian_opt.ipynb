{
 "cells": [
  {
   "cell_type": "code",
   "execution_count": 1,
   "metadata": {},
   "outputs": [
    {
     "output_type": "error",
     "ename": "ModuleNotFoundError",
     "evalue": "No module named 'src'",
     "traceback": [
      "\u001b[0;31m---------------------------------------------------------------------------\u001b[0m",
      "\u001b[0;31mModuleNotFoundError\u001b[0m                       Traceback (most recent call last)",
      "\u001b[0;32m<ipython-input-1-37d10dbcc12f>\u001b[0m in \u001b[0;36m<module>\u001b[0;34m\u001b[0m\n\u001b[1;32m      7\u001b[0m \u001b[0;34m\u001b[0m\u001b[0m\n\u001b[1;32m      8\u001b[0m \u001b[0;31m# import scripts\u001b[0m\u001b[0;34m\u001b[0m\u001b[0;34m\u001b[0m\u001b[0;34m\u001b[0m\u001b[0m\n\u001b[0;32m----> 9\u001b[0;31m \u001b[0;32mfrom\u001b[0m \u001b[0msrc\u001b[0m\u001b[0;34m.\u001b[0m\u001b[0mBotorch_opt\u001b[0m \u001b[0;32mimport\u001b[0m \u001b[0mbayesian_optimiser\u001b[0m\u001b[0;34m\u001b[0m\u001b[0;34m\u001b[0m\u001b[0m\n\u001b[0m\u001b[1;32m     10\u001b[0m \u001b[0;32mfrom\u001b[0m \u001b[0msrc\u001b[0m\u001b[0;34m.\u001b[0m\u001b[0mapi_helper\u001b[0m \u001b[0;32mimport\u001b[0m \u001b[0mapi_utils\u001b[0m\u001b[0;34m\u001b[0m\u001b[0;34m\u001b[0m\u001b[0m\n\u001b[1;32m     11\u001b[0m \u001b[0;31m# from datetime import datetime as dt, date as dt_date\u001b[0m\u001b[0;34m\u001b[0m\u001b[0;34m\u001b[0m\u001b[0;34m\u001b[0m\u001b[0m\n",
      "\u001b[0;31mModuleNotFoundError\u001b[0m: No module named 'src'"
     ]
    }
   ],
   "source": [
    "import numpy as np\n",
    "import sys\n",
    "import os\n",
    "import matplotlib.pyplot as plt\n",
    "import copy\n",
    "import torch as tr\n",
    "\n",
    "# import scripts\n",
    "from src.Botorch_opt import bayesian_optimiser\n",
    "from src.api_helper import api_utils\n",
    "# from datetime import datetime as dt, date as dt_date\n",
    "\n",
    "dtype = torch.float32"
   ]
  },
  {
   "cell_type": "markdown",
   "metadata": {},
   "source": [
    "##### data"
   ]
  },
  {
   "cell_type": "code",
   "execution_count": 26,
   "metadata": {},
   "outputs": [
    {
     "name": "stdout",
     "output_type": "stream",
     "text": [
      "Total size in contract BTSU0 is null, removing it...\n",
      "There is an up/down in contract DUU0, reallocating it...\n",
      "There is an up/down in contract OATU0, reallocating it...\n",
      "There is an up/down in contract OEU0, reallocating it...\n",
      "There is an up/down in contract RXU0, reallocating it...\n",
      "There is an up/down in contract UBU0, reallocating it...\n",
      "Wall time: 24.3 s\n"
     ]
    }
   ],
   "source": [
    "%%time\n",
    "cobdate = dt_date(2020, 8, 24)\n",
    "positions = get_positions(cobdate)\n",
    "wrap = OptimisationWrap(cobdate, positions, randomize = False, margins={}) "
   ]
  },
  {
   "cell_type": "code",
   "execution_count": 3,
   "metadata": {},
   "outputs": [
    {
     "name": "stdout",
     "output_type": "stream",
     "text": [
      "$57,292,771, buffer is: $-17,165,715\n"
     ]
    }
   ],
   "source": [
    "# # margin for the initial condition\n",
    "margins_init = wrap.f(wrap.x0)\n",
    "m0 = margins_init['margin'][0]\n",
    "b0 = margins_init['buffer'][0]\n",
    "print(f\"${m0:,.0f}, buffer is: ${b0:,.0f}\")"
   ]
  },
  {
   "cell_type": "code",
   "execution_count": 13,
   "metadata": {},
   "outputs": [
    {
     "name": "stdout",
     "output_type": "stream",
     "text": [
      "input shape: torch.Size([1, 14])\n",
      "output shape: torch.Size([1, 1])\n"
     ]
    }
   ],
   "source": [
    "@api_utils.transform\n",
    "def api(x): return wrap.f(x)\n",
    "\n",
    "ndim = wrap.x0.shape[0] # input dimension\n",
    "x0 = torch.from_numpy(wrap.x0).float().view(-1,ndim)\n",
    "y0 = torch.tensor([[-1]], dtype=torch.float).view(-1,1)\n",
    "\n",
    "print(\"input shape:\",x0.size())\n",
    "print(\"output shape:\",y0.size())"
   ]
  },
  {
   "cell_type": "markdown",
   "metadata": {},
   "source": [
    "##### OPT"
   ]
  },
  {
   "cell_type": "code",
   "execution_count": 19,
   "metadata": {},
   "outputs": [],
   "source": [
    "# hyperparameters\n",
    "T = 10 # total number of iterations\n",
    "\n",
    "# gp; includes \"MA2.5\", \"SE\", \"RQ\", \"LR\", \"PO\"\n",
    "gp_name,gp_params = \"RQ\",{\n",
    "                          \"mode\": \"pro\",      # \"raw\", \"add\", \"pro\" for GPs\n",
    "                          \"opt\":\"ADAM\",        # opt for MLE; includes: quasi_newton, ADAM\n",
    "                          \"epochs\":128,       # if chosen ADAM as opt\n",
    "                          \"lr\":1e-1,          # learning rate for ADAM\n",
    "                         }\n",
    "# q-parallelism (if use analytical acq_func, q must be 1)\n",
    "batch_size = 1\n",
    "\n",
    "hyper_params = { \n",
    "    \"acq_name\" : \"UCB\",          # acqu func; includes: \"EI\", \"UCB\", \"qEI\", \"qUCB\", \"qKG\"\n",
    "    \"N_start\": 32,               # number of starts for multi-start SGA\n",
    "    \"raw_samples\" :512,          # heuristic initialisation \n",
    "    \"N_MC_sample\" : 256,         # number of samples for Monte Carlo simulation\n",
    "    \"num_fantasies\": 128,        # number of fantasies used by KG\n",
    "    \"beta\":1.,                   # used by UCB/qUCB\n",
    "               }\n",
    "\n",
    "bayes_opt = bayesian_optimiser(gp_name,gp_params,hyper_params)"
   ]
  },
  {
   "cell_type": "code",
   "execution_count": 20,
   "metadata": {
    "scrolled": true
   },
   "outputs": [
    {
     "name": "stdout",
     "output_type": "stream",
     "text": [
      "Iter 128 - Loss: 0.047\n",
      "acq_func took 3.8s\n",
      "api took 13.6s\n",
      "time step 1, drop -6.63%; min $61,089,612\n",
      "Iter 128 - Loss: -1.988\n",
      "acq_func took 1.2s\n",
      "api took 16.1s\n",
      "time step 2, drop -7.56%; min $61,626,916\n",
      "Iter 128 - Loss: -1.972\n",
      "acq_func took 0.2s\n",
      "api took 14.9s\n",
      "time step 3, drop -42.35%; min $81,557,688\n",
      "Iter 128 - Loss: -0.509\n",
      "acq_func took 2.0s\n",
      "api took 14.8s\n",
      "time step 4, drop -0.37%; min $57,504,900\n",
      "Iter 128 - Loss: -0.680\n",
      "acq_func took 2.6s\n",
      "api took 25.3s\n",
      "time step 5, drop 3.47%; min $55,303,652\n",
      "Iter 128 - Loss: -0.787\n",
      "acq_func took 3.1s\n",
      "api took 15.1s\n",
      "time step 6, drop 2.71%; min $55,742,448\n",
      "Iter 128 - Loss: -0.878\n",
      "acq_func took 2.3s\n",
      "api took 15.7s\n",
      "time step 7, drop -9.76%; min $62,886,724\n",
      "Iter 128 - Loss: -0.875\n",
      "acq_func took 2.2s\n",
      "api took 15.2s\n",
      "time step 8, drop 0.59%; min $56,953,212\n",
      "Iter 128 - Loss: -0.942\n",
      "acq_func took 2.3s\n",
      "api took 15.5s\n",
      "time step 9, drop 1.29%; min $56,552,992\n",
      "Iter 128 - Loss: -1.022\n",
      "acq_func took 2.6s\n",
      "api took 13.9s\n",
      "time step 10, drop 2.40%; min $55,917,312\n",
      "acq_func average runtime per iteration 2.2s\n",
      "Wall time: 3min 33s\n"
     ]
    }
   ],
   "source": [
    "%%time\n",
    "xs, ys = bayes_opt.outer_loop(T, x0, y0, m0,api,batch_size)"
   ]
  },
  {
   "cell_type": "markdown",
   "metadata": {},
   "source": [
    "##### multiple runs"
   ]
  },
  {
   "cell_type": "code",
   "execution_count": 21,
   "metadata": {
    "scrolled": true
   },
   "outputs": [
    {
     "name": "stdout",
     "output_type": "stream",
     "text": [
      "Iter 128 - Loss: 0.047\n",
      "acq_func took 2.5s\n",
      "api took 31.0s\n",
      "time step 1, drop -9.47%; min $62,717,960\n",
      "Iter 128 - Loss: -1.631\n",
      "acq_func took 1.4s\n",
      "api took 16.0s\n",
      "time step 2, drop 4.30%; min $54,828,644\n",
      "Iter 128 - Loss: -1.528\n",
      "acq_func took 3.1s\n",
      "api took 15.4s\n",
      "time step 3, drop 2.62%; min $55,792,464\n",
      "Iter 128 - Loss: -1.759\n",
      "acq_func took 2.1s\n",
      "api took 18.9s\n",
      "time step 4, drop 0.38%; min $57,075,612\n",
      "Iter 128 - Loss: -1.873\n",
      "acq_func took 1.8s\n",
      "api took 11.8s\n",
      "time step 5, drop 6.30%; min $53,685,988\n",
      "Iter 128 - Loss: -1.922\n",
      "acq_func took 3.6s\n",
      "api took 10.6s\n",
      "time step 6, drop 7.16%; min $53,191,664\n",
      "Iter 128 - Loss: -1.992\n",
      "acq_func took 2.1s\n",
      "api took 10.9s\n",
      "time step 7, drop 7.30%; min $53,109,124\n",
      "Iter 128 - Loss: -2.054\n",
      "acq_func took 1.8s\n",
      "api took 10.3s\n",
      "time step 8, drop 7.74%; min $52,856,408\n",
      "Iter 128 - Loss: -2.095\n",
      "acq_func took 2.5s\n",
      "api took 10.3s\n",
      "time step 9, drop 6.50%; min $53,568,292\n",
      "Iter 128 - Loss: -2.145\n",
      "acq_func took 5.2s\n",
      "api took 10.2s\n",
      "time step 10, drop 6.95%; min $53,311,068\n",
      "acq_func average runtime per iteration 2.6s\n",
      "Iter 128 - Loss: 0.047\n",
      "acq_func took 4.4s\n",
      "api took 10.8s\n",
      "time step 1, drop -9.47%; min $62,717,960\n",
      "Iter 128 - Loss: -1.631\n",
      "acq_func took 1.9s\n",
      "api took 10.0s\n",
      "time step 2, drop 0.85%; min $56,808,180\n",
      "Iter 128 - Loss: -2.006\n",
      "acq_func took 0.5s\n",
      "api took 10.5s\n",
      "time step 3, drop -7.24%; min $61,439,320\n",
      "Iter 128 - Loss: -1.884\n",
      "acq_func took 2.2s\n",
      "api took 11.5s\n",
      "time step 4, drop -3.52%; min $59,308,616\n",
      "Iter 128 - Loss: -1.956\n",
      "acq_func took 2.3s\n",
      "api took 10.4s\n",
      "time step 5, drop 2.03%; min $56,127,140\n",
      "Iter 128 - Loss: -2.088\n",
      "acq_func took 4.8s\n",
      "api took 11.8s\n",
      "time step 6, drop -4.39%; min $59,808,364\n",
      "Iter 128 - Loss: -1.948\n",
      "acq_func took 7.1s\n",
      "api took 11.9s\n",
      "time step 7, drop 1.25%; min $56,578,908\n",
      "Iter 128 - Loss: -2.078\n",
      "acq_func took 5.7s\n",
      "api took 10.5s\n",
      "time step 8, drop 1.67%; min $56,335,536\n",
      "Iter 128 - Loss: -2.193\n",
      "acq_func took 6.7s\n",
      "api took 10.8s\n",
      "time step 9, drop 1.65%; min $56,349,908\n",
      "Iter 128 - Loss: -2.283\n",
      "acq_func took 7.2s\n",
      "api took 11.5s\n",
      "time step 10, drop 2.32%; min $55,965,052\n",
      "acq_func average runtime per iteration 4.3s\n"
     ]
    }
   ],
   "source": [
    "bayes_opt = bayesian_optimiser(gp_name,gp_params,hyper_params)\n",
    "bayes_loop = exp_helper.multi_run_decorator(bayes_opt.outer_loop, runs=2)\n",
    "xs,ys = bayes_loop(T, x0, y0, m0,api,batch_size)"
   ]
  },
  {
   "cell_type": "code",
   "execution_count": 22,
   "metadata": {},
   "outputs": [
    {
     "data": {
      "text/plain": [
       "2"
      ]
     },
     "execution_count": 22,
     "metadata": {},
     "output_type": "execute_result"
    }
   ],
   "source": [
    "len(xs)"
   ]
  },
  {
   "cell_type": "code",
   "execution_count": null,
   "metadata": {},
   "outputs": [],
   "source": []
  }
 ],
 "metadata": {
  "kernelspec": {
   "display_name": "Python 3",
   "language": "python",
   "name": "python3"
  },
  "language_info": {
   "codemirror_mode": {
    "name": "ipython",
    "version": 3
   },
   "file_extension": ".py",
   "mimetype": "text/x-python",
   "name": "python",
   "nbconvert_exporter": "python",
   "pygments_lexer": "ipython3",
   "version": "3.8.3-final"
  }
 },
 "nbformat": 4,
 "nbformat_minor": 4
}