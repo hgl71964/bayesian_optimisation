{
 "cells": [
  {
   "cell_type": "code",
   "execution_count": 1,
   "metadata": {},
   "outputs": [],
   "source": [
    "import sys\n",
    "sys.path.insert(0,r\"/usr/local/lib/python3.7/site-packages\")\n",
    "sys.path.insert(0,r\"/Users/guoliang/Library/Python/3.7/lib/python/site-packages\")\n",
    "\n",
    "import numpy as np\n",
    "import matplotlib.pyplot as plt\n",
    "import copy\n",
    "import torch\n",
    "\n",
    "# import scripts\n",
    "from scripts.api_helper import transformer\n",
    "from scripts.api_helper import fake_api\n",
    "from scripts.api_helper import api_utils\n",
    "from scripts.api_helper import portfolio_constructor\n",
    "from scripts.exp_helper import exp_helper\n",
    "from scripts.Botorch_opt import bayesian_optimiser\n",
    "from scripts.function_slicer import slicer\n",
    "from scripts import optutil\n",
    "from datetime import datetime as dt, date as dt_date\n",
    "import pandas as pd\n",
    "\n",
    "dtype = torch.float"
   ]
  },
  {
   "cell_type": "markdown",
   "metadata": {},
   "source": [
    "##### portfolio construction"
   ]
  },
  {
   "cell_type": "code",
   "execution_count": 8,
   "metadata": {},
   "outputs": [
    {
     "data": {
      "text/plain": [
       "array([[5, 8, 3],\n",
       "       [5, 6, 4],\n",
       "       [1, 1, 2],\n",
       "       [8, 4, 7],\n",
       "       [8, 8, 8],\n",
       "       [4, 5, 7]])"
      ]
     },
     "execution_count": 8,
     "metadata": {},
     "output_type": "execute_result"
    }
   ],
   "source": [
    "import datetime\n",
    "cobdate = datetime.date(2020, 8, 11)\n",
    "positions = []\n",
    "for i in range(10):\n",
    "    a = np.random.randint(1,10, (6,3))\n",
    "    positions.append(a)\n",
    "positions[-1]"
   ]
  },
  {
   "cell_type": "code",
   "execution_count": 3,
   "metadata": {},
   "outputs": [
    {
     "data": {
      "text/html": [
       "<div>\n",
       "<style scoped>\n",
       "    .dataframe tbody tr th:only-of-type {\n",
       "        vertical-align: middle;\n",
       "    }\n",
       "\n",
       "    .dataframe tbody tr th {\n",
       "        vertical-align: top;\n",
       "    }\n",
       "\n",
       "    .dataframe thead th {\n",
       "        text-align: right;\n",
       "    }\n",
       "</style>\n",
       "<table border=\"1\" class=\"dataframe\">\n",
       "  <thead>\n",
       "    <tr style=\"text-align: right;\">\n",
       "      <th></th>\n",
       "      <th>Barclays - F&amp;O Clearing</th>\n",
       "      <th>Barclays - 3952C F&amp;O</th>\n",
       "      <th>BAML - F&amp;O Clearing</th>\n",
       "    </tr>\n",
       "  </thead>\n",
       "  <tbody>\n",
       "    <tr>\n",
       "      <th>BTSU0</th>\n",
       "      <td>9</td>\n",
       "      <td>4</td>\n",
       "      <td>1</td>\n",
       "    </tr>\n",
       "    <tr>\n",
       "      <th>DUU0</th>\n",
       "      <td>9</td>\n",
       "      <td>4</td>\n",
       "      <td>3</td>\n",
       "    </tr>\n",
       "    <tr>\n",
       "      <th>IKU0</th>\n",
       "      <td>6</td>\n",
       "      <td>2</td>\n",
       "      <td>3</td>\n",
       "    </tr>\n",
       "    <tr>\n",
       "      <th>OATU0</th>\n",
       "      <td>4</td>\n",
       "      <td>8</td>\n",
       "      <td>3</td>\n",
       "    </tr>\n",
       "    <tr>\n",
       "      <th>OEU0</th>\n",
       "      <td>6</td>\n",
       "      <td>1</td>\n",
       "      <td>2</td>\n",
       "    </tr>\n",
       "    <tr>\n",
       "      <th>RXU0</th>\n",
       "      <td>6</td>\n",
       "      <td>4</td>\n",
       "      <td>7</td>\n",
       "    </tr>\n",
       "  </tbody>\n",
       "</table>\n",
       "</div>"
      ],
      "text/plain": [
       "       Barclays - F&O Clearing  Barclays - 3952C F&O  BAML - F&O Clearing\n",
       "BTSU0                        9                     4                    1\n",
       "DUU0                         9                     4                    3\n",
       "IKU0                         6                     2                    3\n",
       "OATU0                        4                     8                    3\n",
       "OEU0                         6                     1                    2\n",
       "RXU0                         6                     4                    7"
      ]
     },
     "execution_count": 3,
     "metadata": {},
     "output_type": "execute_result"
    }
   ],
   "source": [
    "dfs = portfolio_constructor.construct_portfolio(positions)\n",
    "dfs[0]"
   ]
  },
  {
   "cell_type": "code",
   "execution_count": 4,
   "metadata": {},
   "outputs": [],
   "source": [
    "wrap = optutil.OptimisationWrap(cobdate, dfs[0], randomize = False)"
   ]
  },
  {
   "cell_type": "code",
   "execution_count": 5,
   "metadata": {},
   "outputs": [
    {
     "data": {
      "text/plain": [
       "array([0.64285714, 0.8       , 0.5625    , 0.57142857, 0.54545455,\n",
       "       0.4       , 0.26666667, 0.72727273, 0.66666667, 0.33333333,\n",
       "       0.35294118, 0.36363636])"
      ]
     },
     "execution_count": 5,
     "metadata": {},
     "output_type": "execute_result"
    }
   ],
   "source": [
    "wrap.x0"
   ]
  },
  {
   "cell_type": "code",
   "execution_count": 6,
   "metadata": {},
   "outputs": [
    {
     "data": {
      "text/html": [
       "<div>\n",
       "<style scoped>\n",
       "    .dataframe tbody tr th:only-of-type {\n",
       "        vertical-align: middle;\n",
       "    }\n",
       "\n",
       "    .dataframe tbody tr th {\n",
       "        vertical-align: top;\n",
       "    }\n",
       "\n",
       "    .dataframe thead th {\n",
       "        text-align: right;\n",
       "    }\n",
       "</style>\n",
       "<table border=\"1\" class=\"dataframe\">\n",
       "  <thead>\n",
       "    <tr style=\"text-align: right;\">\n",
       "      <th></th>\n",
       "      <th>Barclays - F&amp;O Clearing</th>\n",
       "      <th>Barclays - 3952C F&amp;O</th>\n",
       "      <th>BAML - F&amp;O Clearing</th>\n",
       "    </tr>\n",
       "  </thead>\n",
       "  <tbody>\n",
       "    <tr>\n",
       "      <th>BTSU0</th>\n",
       "      <td>9</td>\n",
       "      <td>4</td>\n",
       "      <td>1</td>\n",
       "    </tr>\n",
       "    <tr>\n",
       "      <th>DUU0</th>\n",
       "      <td>9</td>\n",
       "      <td>4</td>\n",
       "      <td>3</td>\n",
       "    </tr>\n",
       "    <tr>\n",
       "      <th>IKU0</th>\n",
       "      <td>6</td>\n",
       "      <td>2</td>\n",
       "      <td>3</td>\n",
       "    </tr>\n",
       "    <tr>\n",
       "      <th>OATU0</th>\n",
       "      <td>4</td>\n",
       "      <td>8</td>\n",
       "      <td>3</td>\n",
       "    </tr>\n",
       "    <tr>\n",
       "      <th>OEU0</th>\n",
       "      <td>6</td>\n",
       "      <td>1</td>\n",
       "      <td>2</td>\n",
       "    </tr>\n",
       "    <tr>\n",
       "      <th>RXU0</th>\n",
       "      <td>6</td>\n",
       "      <td>4</td>\n",
       "      <td>7</td>\n",
       "    </tr>\n",
       "  </tbody>\n",
       "</table>\n",
       "</div>"
      ],
      "text/plain": [
       "       Barclays - F&O Clearing  Barclays - 3952C F&O  BAML - F&O Clearing\n",
       "BTSU0                        9                     4                    1\n",
       "DUU0                         9                     4                    3\n",
       "IKU0                         6                     2                    3\n",
       "OATU0                        4                     8                    3\n",
       "OEU0                         6                     1                    2\n",
       "RXU0                         6                     4                    7"
      ]
     },
     "execution_count": 6,
     "metadata": {},
     "output_type": "execute_result"
    }
   ],
   "source": [
    "wrap.df(wrap.x0)"
   ]
  },
  {
   "cell_type": "code",
   "execution_count": null,
   "metadata": {},
   "outputs": [],
   "source": []
  },
  {
   "cell_type": "code",
   "execution_count": null,
   "metadata": {},
   "outputs": [],
   "source": []
  },
  {
   "cell_type": "markdown",
   "metadata": {},
   "source": [
    "##### data"
   ]
  },
  {
   "cell_type": "code",
   "execution_count": null,
   "metadata": {},
   "outputs": [],
   "source": [
    "position = np.array([ \n",
    "    [10,21,39,12,14],\n",
    "    [42,52,63,11,54],\n",
    "    [71,82,99,42,57],\n",
    "    [15,24,67,78,93],\n",
    "]) \n",
    "N = np.sum(position,axis=1)\n",
    "x0 = transformer.x_to_y(position) # change of variable\n",
    "x0"
   ]
  },
  {
   "cell_type": "code",
   "execution_count": null,
   "metadata": {},
   "outputs": [],
   "source": [
    "# initial margin\n",
    "fake_api.fake_margin(x0.flatten())"
   ]
  },
  {
   "cell_type": "code",
   "execution_count": null,
   "metadata": {},
   "outputs": [],
   "source": [
    "# time horizon\n",
    "T = 5\n",
    "ndim = 8 # input dimension\n",
    "\n",
    "# intial samples; assume 1 data point; ndim-dimensional input\n",
    "x = torch.from_numpy(x0.flatten()[:ndim]).float().view(-1,ndim) # shape [n,d]\n",
    "y = torch.tensor(-1,dtype=dtype).view(-1,1) # shape [n,1]; min f = max -f\n",
    "m0 = fake_api.fake_margin(x0.flatten()[:ndim])[0]\n",
    "\n",
    "data = [(x,y,m0), (x,y,m0)]\n",
    "\n",
    "def api(x,m0):\n",
    "    x = x.numpy()\n",
    "    margins = fake_api.fake_margin(x)\n",
    "    record = [None] * len(margins)\n",
    "    for i,margin in enumerate(margins):\n",
    "        record[i] = -(margin/m0)\n",
    "    return torch.tensor(record, dtype = dtype).view(-1,1)\n",
    "        \n",
    "print(x)\n",
    "print(y)\n",
    "print(m0)"
   ]
  },
  {
   "cell_type": "markdown",
   "metadata": {},
   "source": [
    "##### visualisation"
   ]
  },
  {
   "cell_type": "code",
   "execution_count": null,
   "metadata": {},
   "outputs": [],
   "source": [
    "scr = slicer(ndim)\n",
    "slices = scr.slice_query(api, m0, [2,3])\n",
    "len(slices)"
   ]
  },
  {
   "cell_type": "code",
   "execution_count": null,
   "metadata": {},
   "outputs": [],
   "source": [
    "# scr.plot(slices, 1, np.arange(.8, 1.1,0.05))"
   ]
  },
  {
   "cell_type": "markdown",
   "metadata": {},
   "source": [
    "##### BO"
   ]
  },
  {
   "cell_type": "code",
   "execution_count": null,
   "metadata": {},
   "outputs": [],
   "source": [
    "# hyperparameters:\n",
    "\n",
    "# gp\n",
    "gp_name,gp_params = \"MA\",{\"nu\":2.5,\n",
    "                          \"power\":2,\n",
    "                          \"opt\":\"quasi_newton\", # opt for GP hyper-parameter tuning\n",
    "                          \"epochs\": 100, # if chosen ADAM, it requires training epoch\n",
    "                          \"lr\": 1e-1, # learning rate for ADAM\n",
    "                         } \n",
    "# q-parallelism\n",
    "batch_size = 2\n",
    "\n",
    "hyper_params = {\n",
    "    \"acq_name\" : \"qUCB\",  # acqu func\n",
    "    \"N_start\": 16, # number of starts for multi-start SGA\n",
    "    \"raw_samples\" :256, # heuristic initialisation \n",
    "    \"N_MC_sample\" : 64, # number of samples during Monte Carlo simulation\n",
    "    \"num_fantasies\": 64, # number of fantasies used by KG\n",
    "    \"beta\": 1e-1, # used by UCB/ qUCB\n",
    "    \"candidate_set\":(200,8), # used by MES; (numbers of points, input_dim)\n",
    "    \"MES_num_fantasies\": 16, # used by MES\n",
    "}\n",
    "\n",
    "bayes_opt = bayesian_optimiser(gp_name,gp_params,**hyper_params)"
   ]
  },
  {
   "cell_type": "code",
   "execution_count": null,
   "metadata": {
    "scrolled": true
   },
   "outputs": [],
   "source": [
    "xs, ys, init_margins, _ = bayes_opt.random_start_exp(T, data, api, batch_size)"
   ]
  },
  {
   "cell_type": "code",
   "execution_count": null,
   "metadata": {},
   "outputs": [],
   "source": [
    "exp_helper.show_exp_results(xs, ys, init_margins, folder_name = \"\", save_name = \"\")"
   ]
  },
  {
   "cell_type": "code",
   "execution_count": null,
   "metadata": {},
   "outputs": [],
   "source": []
  }
 ],
 "metadata": {
  "kernelspec": {
   "display_name": "Python 3",
   "language": "python",
   "name": "python3"
  },
  "language_info": {
   "codemirror_mode": {
    "name": "ipython",
    "version": 3
   },
   "file_extension": ".py",
   "mimetype": "text/x-python",
   "name": "python",
   "nbconvert_exporter": "python",
   "pygments_lexer": "ipython3",
   "version": "3.7.6"
  }
 },
 "nbformat": 4,
 "nbformat_minor": 4
}
