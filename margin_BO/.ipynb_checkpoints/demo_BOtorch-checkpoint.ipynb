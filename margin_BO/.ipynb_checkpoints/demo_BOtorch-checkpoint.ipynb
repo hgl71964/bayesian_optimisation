{
 "cells": [
  {
   "cell_type": "code",
   "execution_count": 2,
   "metadata": {},
   "outputs": [
    {
     "ename": "ModuleNotFoundError",
     "evalue": "No module named 'botorch'",
     "output_type": "error",
     "traceback": [
      "\u001b[0;31m---------------------------------------------------------------------------\u001b[0m",
      "\u001b[0;31mModuleNotFoundError\u001b[0m                       Traceback (most recent call last)",
      "\u001b[0;32m<ipython-input-2-2f5acadc319c>\u001b[0m in \u001b[0;36m<module>\u001b[0;34m\u001b[0m\n\u001b[1;32m     12\u001b[0m \u001b[0;32mfrom\u001b[0m \u001b[0mscripts\u001b[0m\u001b[0;34m.\u001b[0m\u001b[0mapi_helper\u001b[0m \u001b[0;32mimport\u001b[0m \u001b[0mfake_api\u001b[0m\u001b[0;34m\u001b[0m\u001b[0;34m\u001b[0m\u001b[0m\n\u001b[1;32m     13\u001b[0m \u001b[0;32mfrom\u001b[0m \u001b[0mscripts\u001b[0m\u001b[0;34m.\u001b[0m\u001b[0mapi_helper\u001b[0m \u001b[0;32mimport\u001b[0m \u001b[0mapi_utils\u001b[0m\u001b[0;34m\u001b[0m\u001b[0;34m\u001b[0m\u001b[0m\n\u001b[0;32m---> 14\u001b[0;31m \u001b[0;32mfrom\u001b[0m \u001b[0mscripts\u001b[0m\u001b[0;34m.\u001b[0m\u001b[0mexp_helper\u001b[0m \u001b[0;32mimport\u001b[0m \u001b[0mexp_helper\u001b[0m\u001b[0;34m\u001b[0m\u001b[0;34m\u001b[0m\u001b[0m\n\u001b[0m\u001b[1;32m     15\u001b[0m \u001b[0;32mfrom\u001b[0m \u001b[0mscripts\u001b[0m\u001b[0;34m.\u001b[0m\u001b[0mBotorch_opt\u001b[0m \u001b[0;32mimport\u001b[0m \u001b[0mbayesian_optimiser\u001b[0m\u001b[0;34m\u001b[0m\u001b[0;34m\u001b[0m\u001b[0m\n\u001b[1;32m     16\u001b[0m \u001b[0;32mfrom\u001b[0m \u001b[0mscripts\u001b[0m\u001b[0;34m.\u001b[0m\u001b[0mfunction_slicer\u001b[0m \u001b[0;32mimport\u001b[0m \u001b[0mslicer\u001b[0m\u001b[0;34m\u001b[0m\u001b[0;34m\u001b[0m\u001b[0m\n",
      "\u001b[0;32m~/git_repo/Gaussian-Process/botorch/scripts/exp_helper.py\u001b[0m in \u001b[0;36m<module>\u001b[0;34m\u001b[0m\n\u001b[1;32m      7\u001b[0m \u001b[0;32mimport\u001b[0m \u001b[0mtorch\u001b[0m\u001b[0;34m\u001b[0m\u001b[0;34m\u001b[0m\u001b[0m\n\u001b[1;32m      8\u001b[0m \u001b[0;32mimport\u001b[0m \u001b[0mcopy\u001b[0m\u001b[0;34m\u001b[0m\u001b[0;34m\u001b[0m\u001b[0m\n\u001b[0;32m----> 9\u001b[0;31m \u001b[0;32mfrom\u001b[0m \u001b[0mBotorch_opt\u001b[0m \u001b[0;32mimport\u001b[0m \u001b[0mbayesian_optimiser\u001b[0m\u001b[0;34m\u001b[0m\u001b[0;34m\u001b[0m\u001b[0m\n\u001b[0m\u001b[1;32m     10\u001b[0m \u001b[0;32mfrom\u001b[0m \u001b[0mfunction_slicer\u001b[0m \u001b[0;32mimport\u001b[0m \u001b[0mslicer\u001b[0m\u001b[0;34m\u001b[0m\u001b[0;34m\u001b[0m\u001b[0m\n\u001b[1;32m     11\u001b[0m \u001b[0;32mimport\u001b[0m \u001b[0mtime\u001b[0m\u001b[0;34m\u001b[0m\u001b[0;34m\u001b[0m\u001b[0m\n",
      "\u001b[0;32m~/git_repo/Gaussian-Process/botorch/scripts/Botorch_opt.py\u001b[0m in \u001b[0;36m<module>\u001b[0;34m\u001b[0m\n\u001b[1;32m      8\u001b[0m \u001b[0;32mimport\u001b[0m \u001b[0mnumpy\u001b[0m \u001b[0;32mas\u001b[0m \u001b[0mnp\u001b[0m\u001b[0;34m\u001b[0m\u001b[0;34m\u001b[0m\u001b[0m\n\u001b[1;32m      9\u001b[0m \u001b[0;32mimport\u001b[0m \u001b[0mcopy\u001b[0m\u001b[0;34m\u001b[0m\u001b[0;34m\u001b[0m\u001b[0m\n\u001b[0;32m---> 10\u001b[0;31m \u001b[0;32mimport\u001b[0m \u001b[0mGPs\u001b[0m\u001b[0;34m\u001b[0m\u001b[0;34m\u001b[0m\u001b[0m\n\u001b[0m\u001b[1;32m     11\u001b[0m \u001b[0;32mimport\u001b[0m \u001b[0mtime\u001b[0m\u001b[0;34m\u001b[0m\u001b[0;34m\u001b[0m\u001b[0m\n\u001b[1;32m     12\u001b[0m \u001b[0;32mimport\u001b[0m \u001b[0mdatetime\u001b[0m\u001b[0;34m\u001b[0m\u001b[0;34m\u001b[0m\u001b[0m\n",
      "\u001b[0;32m~/git_repo/Gaussian-Process/botorch/scripts/GPs.py\u001b[0m in \u001b[0;36m<module>\u001b[0;34m\u001b[0m\n\u001b[1;32m      6\u001b[0m \u001b[0;34m\u001b[0m\u001b[0m\n\u001b[1;32m      7\u001b[0m \u001b[0;32mimport\u001b[0m \u001b[0mtorch\u001b[0m\u001b[0;34m\u001b[0m\u001b[0;34m\u001b[0m\u001b[0m\n\u001b[0;32m----> 8\u001b[0;31m \u001b[0;32mimport\u001b[0m \u001b[0mbotorch\u001b[0m\u001b[0;34m\u001b[0m\u001b[0;34m\u001b[0m\u001b[0m\n\u001b[0m\u001b[1;32m      9\u001b[0m \u001b[0;32mimport\u001b[0m \u001b[0mgpytorch\u001b[0m\u001b[0;34m\u001b[0m\u001b[0;34m\u001b[0m\u001b[0m\n\u001b[1;32m     10\u001b[0m \u001b[0;34m\u001b[0m\u001b[0m\n",
      "\u001b[0;31mModuleNotFoundError\u001b[0m: No module named 'botorch'"
     ]
    }
   ],
   "source": [
    "import sys\n",
    "import os\n",
    "# sys.path.append(os.path.join(os.getcwd(), \"scripts\"))\n",
    "\n",
    "import numpy as np\n",
    "import matplotlib.pyplot as plt\n",
    "import copy\n",
    "import torch\n",
    "\n",
    "# import scripts\n",
    "from scripts.api_helper import transformer\n",
    "from scripts.api_helper import fake_api\n",
    "from scripts.api_helper import api_utils\n",
    "from scripts.exp_helper import exp_helper\n",
    "from scripts.Botorch_opt import bayesian_optimiser\n",
    "from scripts.function_slicer import slicer\n",
    "\n",
    "\n",
    "dtype = torch.float"
   ]
  },
  {
   "cell_type": "markdown",
   "metadata": {},
   "source": [
    "##### data"
   ]
  },
  {
   "cell_type": "code",
   "execution_count": 2,
   "metadata": {},
   "outputs": [
    {
     "data": {
      "text/plain": [
       "array([[0.10416667, 0.24418605, 0.6       , 0.46153846],\n",
       "       [0.18918919, 0.28888889, 0.4921875 , 0.16923077],\n",
       "       [0.2022792 , 0.29285714, 0.5       , 0.42424242],\n",
       "       [0.05415162, 0.09160305, 0.28151261, 0.45614035]])"
      ]
     },
     "execution_count": 2,
     "metadata": {},
     "output_type": "execute_result"
    }
   ],
   "source": [
    "position = np.array([ \n",
    "    [10,21,39,12,14],\n",
    "    [42,52,63,11,54],\n",
    "    [71,82,99,42,57],\n",
    "    [15,24,67,78,93],\n",
    "]) \n",
    "N = np.sum(position,axis=1)\n",
    "x0 = transformer.x_to_y(position) # change of variable\n",
    "x0"
   ]
  },
  {
   "cell_type": "code",
   "execution_count": 3,
   "metadata": {},
   "outputs": [
    {
     "data": {
      "text/plain": [
       "[11.026142125881833]"
      ]
     },
     "execution_count": 3,
     "metadata": {},
     "output_type": "execute_result"
    }
   ],
   "source": [
    "# initial margin\n",
    "fake_api.fake_margin(x0.flatten())"
   ]
  },
  {
   "cell_type": "code",
   "execution_count": 4,
   "metadata": {},
   "outputs": [
    {
     "name": "stdout",
     "output_type": "stream",
     "text": [
      "tensor([[0.1042, 0.2442, 0.6000, 0.4615, 0.1892, 0.2889, 0.4922, 0.1692]])\n",
      "tensor([[-1.]])\n",
      "10.227246439833696\n"
     ]
    }
   ],
   "source": [
    "# time horizon\n",
    "T = 5\n",
    "ndim = 8 # input dimension\n",
    "\n",
    "# intial samples; assume 1 data point; ndim-dimensional input\n",
    "x = torch.from_numpy(x0.flatten()[:ndim]).float().view(-1,ndim) # shape [n,d]\n",
    "y = torch.tensor(-1,dtype=dtype).view(-1,1) # shape [n,1]; min f = max -f\n",
    "m0 = fake_api.fake_margin(x0.flatten()[:ndim])[0]\n",
    "\n",
    "data = [(x,y,m0), (x,y,m0)]\n",
    "\n",
    "def api(x,m0):\n",
    "    x = x.numpy()\n",
    "    margins = fake_api.fake_margin(x)\n",
    "    record = [None] * len(margins)\n",
    "    for i,margin in enumerate(margins):\n",
    "        record[i] = -(margin/m0)\n",
    "    return torch.tensor(record, dtype = dtype).view(-1,1)\n",
    "        \n",
    "print(x)\n",
    "print(y)\n",
    "print(m0)"
   ]
  },
  {
   "cell_type": "markdown",
   "metadata": {},
   "source": [
    "##### visualisation"
   ]
  },
  {
   "cell_type": "code",
   "execution_count": 5,
   "metadata": {},
   "outputs": [
    {
     "name": "stdout",
     "output_type": "stream",
     "text": [
      "runs 1\n",
      "runs 2\n",
      "runs 3\n"
     ]
    },
    {
     "data": {
      "text/plain": [
       "3"
      ]
     },
     "execution_count": 5,
     "metadata": {},
     "output_type": "execute_result"
    }
   ],
   "source": [
    "scr = slicer(ndim)\n",
    "slices = scr.slice_query(api, m0, [2,3])\n",
    "len(slices)"
   ]
  },
  {
   "cell_type": "code",
   "execution_count": 6,
   "metadata": {},
   "outputs": [],
   "source": [
    "# scr.plot(slices, 1, np.arange(.8, 1.1,0.05))"
   ]
  },
  {
   "cell_type": "markdown",
   "metadata": {},
   "source": [
    "##### BO"
   ]
  },
  {
   "cell_type": "code",
   "execution_count": 7,
   "metadata": {},
   "outputs": [],
   "source": [
    "# hyperparameters:\n",
    "\n",
    "# gp\n",
    "gp_name,gp_params = \"MA\",{\"nu\":2.5,\n",
    "                          \"power\":2,\n",
    "                          \"opt\":\"quasi_newton\", # opt for GP hyper-parameter tuning\n",
    "                          \"epochs\": 100, # if chosen ADAM, it requires training epoch\n",
    "                          \"lr\": 1e-1, # learning rate for ADAM\n",
    "                         } \n",
    "# q-parallelism\n",
    "batch_size = 2\n",
    "\n",
    "hyper_params = {\n",
    "    \"acq_name\" : \"qUCB\",  # acqu func\n",
    "    \"N_start\": 16, # number of starts for multi-start SGA\n",
    "    \"raw_samples\" :256, # heuristic initialisation \n",
    "    \"N_MC_sample\" : 64, # number of samples during Monte Carlo simulation\n",
    "    \"num_fantasies\": 64, # number of fantasies used by KG\n",
    "    \"beta\": 1e-1, # used by UCB/ qUCB\n",
    "    \"candidate_set\":(200,8), # used by MES; (numbers of points, input_dim)\n",
    "    \"MES_num_fantasies\": 16, # used by MES\n",
    "}\n",
    "\n",
    "bayes_opt = bayesian_optimiser(gp_name,gp_params,**hyper_params)"
   ]
  },
  {
   "cell_type": "code",
   "execution_count": 9,
   "metadata": {
    "scrolled": true
   },
   "outputs": [
    {
     "name": "stdout",
     "output_type": "stream",
     "text": [
      "run: 1\n",
      "init margin: $10\n",
      "time step 1, drop 10.16%; min $9\n",
      "time step 2, drop 0.36%; min $10\n",
      "time step 3, drop 5.88%; min $10\n",
      "time step 4, drop 5.44%; min $10\n",
      "time step 5, drop -2.87%; min $11\n",
      "this run: drop 10.16%; min $9\n",
      "run: 2\n",
      "init margin: $10\n",
      "time step 1, drop 2.70%; min $10\n",
      "time step 2, drop -1.26%; min $10\n",
      "time step 3, drop 4.23%; min $10\n",
      "time step 4, drop -2.59%; min $10\n",
      "time step 5, drop 4.48%; min $10\n",
      "this run: drop 4.48%; min $10\n",
      "average min over runs: drop 7.32%\n"
     ]
    }
   ],
   "source": [
    "xs, ys, init_margins, _ = bayes_opt.random_start_exp(T, data, api, batch_size)"
   ]
  },
  {
   "cell_type": "code",
   "execution_count": 10,
   "metadata": {},
   "outputs": [
    {
     "name": "stdout",
     "output_type": "stream",
     "text": [
      "average drop over runs 7.32%\n",
      "\n",
      "absolute min margin: $9\n",
      "the corresponding allocation: tensor([[0.6825, 0.5923, 0.0227, 0.9541, 0.0060, 0.9022, 0.1995, 0.7313]])\n"
     ]
    }
   ],
   "source": [
    "exp_helper.show_exp_results(xs, ys, init_margins, folder_name = \"\", save_name = \"\")"
   ]
  },
  {
   "cell_type": "code",
   "execution_count": null,
   "metadata": {},
   "outputs": [],
   "source": []
  }
 ],
 "metadata": {
  "kernelspec": {
   "display_name": "Python 3",
   "language": "python",
   "name": "python3"
  },
  "language_info": {
   "codemirror_mode": {
    "name": "ipython",
    "version": 3
   },
   "file_extension": ".py",
   "mimetype": "text/x-python",
   "name": "python",
   "nbconvert_exporter": "python",
   "pygments_lexer": "ipython3",
   "version": "3.8.5"
  }
 },
 "nbformat": 4,
 "nbformat_minor": 4
}
