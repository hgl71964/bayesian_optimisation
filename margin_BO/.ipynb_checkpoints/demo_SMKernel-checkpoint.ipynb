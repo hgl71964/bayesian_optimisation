{
 "cells": [
  {
   "cell_type": "markdown",
   "metadata": {},
   "source": [
    "SM kernel works only under very limited condition"
   ]
  },
  {
   "cell_type": "code",
   "execution_count": 1,
   "metadata": {},
   "outputs": [],
   "source": [
    "import numpy as np\n",
    "import matplotlib.pyplot as plt\n",
    "import copy\n",
    "import torch\n",
    "import gpytorch\n",
    "import botorch\n",
    "\n",
    "# import scripts\n",
    "from scripts.transformation import transformer\n",
    "from scripts.transformation import fake_api\n",
    "from scripts.transformation import api_utils\n",
    "from scripts.exp_helper import exp_helper\n",
    "from scripts.Botorch_opt import bayesian_optimiser\n",
    "from scripts.function_slicer import slicer\n",
    "\n",
    "dtype = torch.float"
   ]
  },
  {
   "cell_type": "markdown",
   "metadata": {},
   "source": [
    "##### data"
   ]
  },
  {
   "cell_type": "code",
   "execution_count": 2,
   "metadata": {},
   "outputs": [
    {
     "data": {
      "text/plain": [
       "array([[0.10416667, 0.24418605, 0.6       , 0.46153846],\n",
       "       [0.18918919, 0.28888889, 0.4921875 , 0.16923077],\n",
       "       [0.2022792 , 0.29285714, 0.5       , 0.42424242],\n",
       "       [0.05415162, 0.09160305, 0.28151261, 0.45614035]])"
      ]
     },
     "execution_count": 2,
     "metadata": {},
     "output_type": "execute_result"
    }
   ],
   "source": [
    "position = np.array([ \n",
    "    [10,21,39,12,14],\n",
    "    [42,52,63,11,54],\n",
    "    [71,82,99,42,57],\n",
    "    [15,24,67,78,93],\n",
    "]) \n",
    "N = np.sum(position,axis=1)\n",
    "x0 = transformer.x_to_y(position) # change of variable\n",
    "x0"
   ]
  },
  {
   "cell_type": "code",
   "execution_count": 3,
   "metadata": {},
   "outputs": [
    {
     "data": {
      "text/plain": [
       "[11.026142125881833]"
      ]
     },
     "execution_count": 3,
     "metadata": {},
     "output_type": "execute_result"
    }
   ],
   "source": [
    "# initial margin\n",
    "fake_api.fake_margin(x0.flatten())"
   ]
  },
  {
   "cell_type": "code",
   "execution_count": 4,
   "metadata": {},
   "outputs": [
    {
     "name": "stdout",
     "output_type": "stream",
     "text": [
      "tensor([[0.1042, 0.2442, 0.6000, 0.4615, 0.1892, 0.2889, 0.4922, 0.1692]]) torch.Size([1, 8])\n",
      "tensor([[-1.]])\n",
      "10.227246439833696\n"
     ]
    }
   ],
   "source": [
    "# time horizon\n",
    "T = 5\n",
    "ndim = 8 # input dimension\n",
    "\n",
    "# intial samples; assume 1 data point; ndim-dimensional input\n",
    "x = torch.from_numpy(x0.flatten()[:ndim]).float().view(-1,ndim) # shape [n,d]\n",
    "y = torch.tensor(-1,dtype=dtype).view(-1,1) # shape [n,1]; min f = max -f\n",
    "m0 = fake_api.fake_margin(x0.flatten()[:ndim])[0]\n",
    "\n",
    "data = [(x,y,m0), (x,y,m0)]\n",
    "\n",
    "def api(x,m0):\n",
    "    x = x.numpy()\n",
    "    margins = fake_api.fake_margin(x)\n",
    "    record = [None] * len(margins)\n",
    "    for i,margin in enumerate(margins):\n",
    "        record[i] = -(margin/m0)\n",
    "    return torch.tensor(record, dtype = dtype).view(-1,1)\n",
    "        \n",
    "print(x, x.size())\n",
    "print(y)\n",
    "print(m0)"
   ]
  },
  {
   "cell_type": "markdown",
   "metadata": {},
   "source": [
    "##### BO"
   ]
  },
  {
   "cell_type": "code",
   "execution_count": 11,
   "metadata": {},
   "outputs": [
    {
     "name": "stdout",
     "output_type": "stream",
     "text": [
      "torch.Size([1, 1, 8]) torch.Size([1, 1, 1])\n"
     ]
    }
   ],
   "source": [
    "X_train = x.unsqueeze(0).repeat(1,1,1)\n",
    "y_train = y.unsqueeze(0).repeat(1,1,1)\n",
    "print(X_train.size(),y_train.size())"
   ]
  },
  {
   "cell_type": "code",
   "execution_count": 12,
   "metadata": {},
   "outputs": [],
   "source": [
    "def init_model(x, y, covar: callable, state_dict=None):\n",
    "    # zeros-noise settings\n",
    "    likelihood = gpytorch.likelihoods.GaussianLikelihood()\n",
    "    likelihood.noise = 1e-4  \n",
    "    likelihood.noise_covar.raw_noise.requires_grad_(False)\n",
    "    model = botorch.models.SingleTaskGP(x, y, likelihood)\n",
    "    model.covar_module = covar(x)\n",
    "\n",
    "    mll = gpytorch.mlls.ExactMarginalLogLikelihood(model.likelihood, model)\n",
    "    if state_dict is not None: \n",
    "        model.load_state_dict(state_dict)\n",
    "    return mll, model\n",
    "\n",
    "def fit_model(mll):\n",
    "    botorch.fit_gpytorch_model(mll)\n",
    "\n",
    "def covar(x):\n",
    "    return gpytorch.kernels.SpectralMixtureKernel(\n",
    "                batch_shape = torch.Size([1]),\n",
    "#                 batch_size = 10,\n",
    "                ard_num_dims=x.size(-1),\n",
    "                num_mixtures=3)"
   ]
  },
  {
   "cell_type": "code",
   "execution_count": 13,
   "metadata": {},
   "outputs": [],
   "source": [
    "def init_acqu_func(model):\n",
    "    acq = botorch.acquisition.analytic.UpperConfidenceBound(\n",
    "        model=model,\n",
    "        beta = 1,\n",
    "        objective = None, \n",
    "    )\n",
    "    return acq\n",
    "\n",
    "def inner_loop(acq_func,batch_size,bounds):\n",
    "    candidates, _ = botorch.optim.optimize_acqf(\n",
    "    acq_function=acq_func,\n",
    "    bounds=bounds,\n",
    "    q=batch_size,\n",
    "    num_restarts=1,      \n",
    "    raw_samples=1,        \n",
    "    sequential = False, \n",
    "    )\n",
    "    query = candidates.detach()\n",
    "    return query"
   ]
  },
  {
   "cell_type": "code",
   "execution_count": 14,
   "metadata": {},
   "outputs": [
    {
     "name": "stdout",
     "output_type": "stream",
     "text": [
      "tensor([[0.5147, 0.9682, 0.1045, 0.0400, 0.0487, 0.2555, 0.6755, 0.8857]])\n"
     ]
    }
   ],
   "source": [
    "bounds = torch.tensor([[0.0] * ndim, [1.0] * ndim], dtype = dtype)\n",
    "q=1\n",
    "\n",
    "mll, model = init_model(X_train, y_train, covar, state_dict=None)\n",
    "\n",
    "fit_model(mll)\n",
    "\n",
    "acq = init_acqu_func(model)\n",
    "\n",
    "query = inner_loop(acq, q, bounds)\n",
    "\n",
    "print(query)"
   ]
  },
  {
   "cell_type": "code",
   "execution_count": null,
   "metadata": {},
   "outputs": [],
   "source": []
  },
  {
   "cell_type": "code",
   "execution_count": null,
   "metadata": {},
   "outputs": [],
   "source": []
  },
  {
   "cell_type": "code",
   "execution_count": null,
   "metadata": {},
   "outputs": [],
   "source": []
  },
  {
   "cell_type": "code",
   "execution_count": null,
   "metadata": {},
   "outputs": [],
   "source": []
  },
  {
   "cell_type": "code",
   "execution_count": null,
   "metadata": {},
   "outputs": [],
   "source": []
  },
  {
   "cell_type": "code",
   "execution_count": null,
   "metadata": {},
   "outputs": [],
   "source": []
  },
  {
   "cell_type": "code",
   "execution_count": null,
   "metadata": {},
   "outputs": [],
   "source": []
  },
  {
   "cell_type": "code",
   "execution_count": null,
   "metadata": {},
   "outputs": [],
   "source": []
  },
  {
   "cell_type": "code",
   "execution_count": 170,
   "metadata": {},
   "outputs": [
    {
     "name": "stdout",
     "output_type": "stream",
     "text": [
      "torch.Size([1, 1, 8]) torch.Size([1, 1, 1])\n"
     ]
    }
   ],
   "source": [
    "X_train = x.unsqueeze(0).repeat(1,1,1)\n",
    "y_train = y.unsqueeze(0).repeat(1,1,1)\n",
    "print(X_train.size(),y_train.size())"
   ]
  },
  {
   "cell_type": "code",
   "execution_count": 171,
   "metadata": {},
   "outputs": [],
   "source": [
    "def init_model(x, y, covar: callable, state_dict=None):\n",
    "    # zeros-noise settings\n",
    "    likelihood = gpytorch.likelihoods.GaussianLikelihood()\n",
    "    likelihood.noise = 1e-4  \n",
    "    likelihood.noise_covar.raw_noise.requires_grad_(False)\n",
    "    model = botorch.models.SingleTaskGP(x, y, likelihood)\n",
    "    model.covar_module = covar(x)\n",
    "\n",
    "    mll = gpytorch.mlls.ExactMarginalLogLikelihood(model.likelihood, model)\n",
    "    if state_dict is not None: \n",
    "        model.load_state_dict(state_dict)\n",
    "    return mll, model\n",
    "\n",
    "def fit_model(mll):\n",
    "    botorch.fit_gpytorch_model(mll)\n",
    "\n",
    "def covar(x):\n",
    "    return gpytorch.kernels.SpectralMixtureKernel(\n",
    "                batch_shape = torch.Size([1]),\n",
    "#                 batch_size = 1,\n",
    "                ard_num_dims=x.size(-1),\n",
    "                num_mixtures=3)"
   ]
  },
  {
   "cell_type": "code",
   "execution_count": 172,
   "metadata": {},
   "outputs": [],
   "source": [
    "def fit_model2(mll, model, x, y):\n",
    "    \n",
    "    model.train()\n",
    "    model.likelihood.train()\n",
    "    optimizer = torch.optim.Adam(model.parameters(), lr=0.1)\n",
    "    \n",
    "    epoch = 2\n",
    "    y = y.squeeze(-1)\n",
    "\n",
    "    \n",
    "    print(\"start training\")\n",
    "    print(x.size(), y.size())\n",
    "\n",
    "    for i in range(epoch):\n",
    "        optimizer.zero_grad()\n",
    "        output = model(x)\n",
    "        loss = -mll(output, y)[0]\n",
    "        loss.backward()\n",
    "        optimizer.step()\n",
    "    print(\"Iter %d - Loss: %.3f\" % (i, loss.item()))\n",
    "    model.eval()\n",
    "    model.likelihood.eval()"
   ]
  },
  {
   "cell_type": "code",
   "execution_count": 178,
   "metadata": {},
   "outputs": [],
   "source": [
    "def init_acqu_func(model):\n",
    "    acq = botorch.acquisition.analytic.UpperConfidenceBound(\n",
    "        model=model,\n",
    "        beta = 1,\n",
    "        objective = None, \n",
    "    )\n",
    "    return acq\n",
    "\n",
    "def inner_loop(acq_func,batch_size,bounds):\n",
    "    candidates, _ = botorch.optim.optimize_acqf(\n",
    "    acq_function=acq_func,\n",
    "    bounds=bounds,\n",
    "    q=batch_size,\n",
    "    num_restarts=1,       # number of starting point SGD\n",
    "    raw_samples=1,        # heuristic init\n",
    "    sequential = False,         # this enable SGD, instead of one-step optimal\n",
    "    )\n",
    "    query = candidates.detach()\n",
    "    return query"
   ]
  },
  {
   "cell_type": "code",
   "execution_count": 179,
   "metadata": {},
   "outputs": [
    {
     "name": "stdout",
     "output_type": "stream",
     "text": [
      "start training\n",
      "torch.Size([1, 1, 8]) torch.Size([1, 1])\n",
      "Iter 1 - Loss: 1.458\n",
      "tensor([[0.9976, 0.7974, 0.8311, 0.7608, 0.1730, 0.1412, 0.7551, 0.1114]])\n"
     ]
    }
   ],
   "source": [
    "bounds = torch.tensor([[0.0] * ndim, [1.0] * ndim], dtype = dtype)\n",
    "\n",
    "mll, model = init_model(X_train, y_train, covar, state_dict=None)\n",
    "\n",
    "fit_model2(mll, model, X_train,y_train)\n",
    "\n",
    "acq = init_acqu_func(model)\n",
    "\n",
    "query = inner_loop(acq, q, bounds)\n",
    "\n",
    "print(query)"
   ]
  },
  {
   "cell_type": "code",
   "execution_count": null,
   "metadata": {},
   "outputs": [],
   "source": []
  }
 ],
 "metadata": {
  "kernelspec": {
   "display_name": "Python 3.7.0 64-bit",
   "language": "python",
   "name": "python37064bit8dc19c9d18454856bdb66133633ab6c7"
  },
  "language_info": {
   "codemirror_mode": {
    "name": "ipython",
    "version": 3
   },
   "file_extension": ".py",
   "mimetype": "text/x-python",
   "name": "python",
   "nbconvert_exporter": "python",
   "pygments_lexer": "ipython3",
   "version": "3.7.0"
  }
 },
 "nbformat": 4,
 "nbformat_minor": 4
}
