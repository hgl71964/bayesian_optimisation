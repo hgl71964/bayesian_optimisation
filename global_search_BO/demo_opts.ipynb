{
 "cells": [
  {
   "cell_type": "code",
   "execution_count": 1,
   "metadata": {},
   "outputs": [],
   "source": [
    "import numpy as np\n",
    "import sys\n",
    "import os\n",
    "import matplotlib.pyplot as plt\n",
    "import copy\n",
    "import torch as tr\n",
    "\n",
    "# import scripts\n",
    "from src.es import random_opt\n",
    "from src.es import evolutionary_strategy\n",
    "from src.grad_opt import ADAM_opt\n",
    "from src.api_helper import api_utils\n",
    "from src.api_helper import env\n",
    "import copyreg\n",
    "\n",
    "device = tr.device(\"cuda\" if tr.cuda.is_available() else \"cpu\")\n",
    "dtype = tr.float32"
   ]
  },
  {
   "cell_type": "markdown",
   "metadata": {},
   "source": [
    "##### data"
   ]
  },
  {
   "cell_type": "code",
   "execution_count": 2,
   "metadata": {},
   "outputs": [
    {
     "output_type": "stream",
     "name": "stdout",
     "text": [
      "init query: tensor([[0.2649, 0.6295]])\ninit reward: tensor([[-1.]]), origin reward: 31.82\n"
     ]
    }
   ],
   "source": [
    "## multi-process has problem with decorator\n",
    "# def af(query): return env.rosenbrock(query); api = api_utils.multi_process_transform(af) \n",
    "\n",
    "@api_utils.transform\n",
    "def api(query): return env.rosenbrock(query)\n",
    "\n",
    "# @api_utils.multi_thread_transform\n",
    "# def api(query): return env.rosenbrock(query)\n",
    "\n",
    "x0, y0 = tr.rand(2).view(1, -1), tr.tensor([[-1]], dtype=dtype).view(-1, 1)  \n",
    "r0 = env.rosenbrock(x0)  # initial reward on which normalisation based\n",
    "\n",
    "x0, y0= x0.to(device), y0.to(device)  # data in GPU\n",
    "\n",
    "print(\"init query:\", x0); print(f\"init reward: {api(x0, r0, device)}, origin reward: {r0.item():.2f}\")  # x,y stay on GPU while r0 in cpu\n",
    "\n"
   ]
  },
  {
   "cell_type": "markdown",
   "metadata": {},
   "source": [
    "##### OPT"
   ]
  },
  {
   "cell_type": "code",
   "execution_count": 3,
   "metadata": {},
   "outputs": [],
   "source": [
    "# hyperparameters\n",
    "T = 10  # total number of iterations\n",
    "\n",
    "adam = ADAM_opt(); ram_opt = random_opt(); es = evolutionary_strategy()"
   ]
  },
  {
   "cell_type": "code",
   "execution_count": 18,
   "metadata": {},
   "outputs": [
    {
     "output_type": "stream",
     "name": "stdout",
     "text": [
      "CPU times: user 122 ms, sys: 0 ns, total: 122 ms\nWall time: 127 ms\n"
     ]
    },
    {
     "output_type": "execute_result",
     "data": {
      "text/plain": [
       "(tensor([[2.6491e-01, 6.2950e-01],\n",
       "         [5.3031e-01, 1.2579e+00],\n",
       "         [1.0612e+00, 2.5151e+00],\n",
       "         [2.1233e+00, 5.0298e+00],\n",
       "         [4.2476e+00, 1.0059e+01],\n",
       "         [8.4940e+00, 2.0119e+01],\n",
       "         [1.6987e+01, 4.0238e+01],\n",
       "         [3.3973e+01, 8.0476e+01],\n",
       "         [6.7945e+01, 1.6095e+02],\n",
       "         [1.3589e+02, 3.2190e+02],\n",
       "         [2.7178e+02, 6.4381e+02]]),\n",
       " tensor([-1.0000e+00, -7.7853e-02, -1.1123e+00, -1.8900e+00, -4.8308e-02,\n",
       "         -1.0612e+02, -6.9218e+03, -1.8059e+05, -3.5094e+06, -6.1438e+07,\n",
       "         -1.0268e+09]))"
      ]
     },
     "metadata": {},
     "execution_count": 18
    }
   ],
   "source": [
    "%%time\n",
    "es.outer_loop(T, x0, r0, api)"
   ]
  },
  {
   "cell_type": "code",
   "execution_count": 19,
   "metadata": {},
   "outputs": [
    {
     "output_type": "stream",
     "name": "stdout",
     "text": [
      "CPU times: user 9.5 ms, sys: 1.2 ms, total: 10.7 ms\nWall time: 10.8 ms\n"
     ]
    },
    {
     "output_type": "execute_result",
     "data": {
      "text/plain": [
       "(tensor([[ 0.2649,  0.6295],\n",
       "         [-0.0015,  0.6903],\n",
       "         [-0.1259, -0.4915],\n",
       "         [ 0.5684,  0.5299],\n",
       "         [ 0.3647, -0.7769],\n",
       "         [-0.4495,  0.0864],\n",
       "         [-0.7185,  0.6443],\n",
       "         [ 0.9188,  0.1488],\n",
       "         [ 0.8105,  0.3270],\n",
       "         [ 0.6440,  0.6845],\n",
       "         [ 0.1147,  0.7005],\n",
       "         [-0.4259,  0.3647],\n",
       "         [-0.3816,  0.8107],\n",
       "         [ 0.1317, -0.9143],\n",
       "         [ 0.6803, -0.6395],\n",
       "         [ 0.3072,  0.8241],\n",
       "         [ 0.2595,  0.4973],\n",
       "         [ 0.5388, -0.2813],\n",
       "         [-0.5995, -0.0318],\n",
       "         [-0.1350, -0.6029],\n",
       "         [-0.9475,  0.1653]]),\n",
       " tensor([-1.0000, -1.5288, -0.8487, -0.1403, -2.6142, -0.1081, -0.1443, -1.5193,\n",
       "         -0.3431, -0.2326, -1.5093, -0.1694, -1.4496, -2.7508, -3.8210, -1.6886,\n",
       "         -0.5981, -1.0336, -0.5612, -1.2528, -1.8052]))"
      ]
     },
     "metadata": {},
     "execution_count": 19
    }
   ],
   "source": [
    "%%time\n",
    "ram_opt.outer_loop(T, (-1,1), x0, r0, api, batch_size=2)"
   ]
  },
  {
   "cell_type": "code",
   "execution_count": 20,
   "metadata": {
    "scrolled": true
   },
   "outputs": [
    {
     "output_type": "stream",
     "name": "stdout",
     "text": [
      "CPU times: user 11.5 ms, sys: 2.06 ms, total: 13.6 ms\nWall time: 14.7 ms\n"
     ]
    },
    {
     "output_type": "execute_result",
     "data": {
      "text/plain": [
       "(tensor([[0.2649, 0.6295],\n",
       "         [0.2659, 0.6285],\n",
       "         [0.2669, 0.6275],\n",
       "         [0.2679, 0.6265],\n",
       "         [0.2689, 0.6255],\n",
       "         [0.2699, 0.6245],\n",
       "         [0.2709, 0.6235],\n",
       "         [0.2719, 0.6225],\n",
       "         [0.2729, 0.6215],\n",
       "         [0.2739, 0.6205]]),\n",
       " tensor([-1.0000, -0.9946, -0.9892, -0.9838, -0.9784, -0.9730, -0.9676, -0.9623,\n",
       "         -0.9569, -0.9516]))"
      ]
     },
     "metadata": {},
     "execution_count": 20
    }
   ],
   "source": [
    "%%time\n",
    "adam.outer_loop(T, x0, r0, api, env.rosenbrock_grad)"
   ]
  },
  {
   "cell_type": "code",
   "execution_count": 21,
   "metadata": {},
   "outputs": [
    {
     "output_type": "execute_result",
     "data": {
      "text/plain": [
       "tensor([[0.2649, 0.6295]])"
      ]
     },
     "metadata": {},
     "execution_count": 21
    }
   ],
   "source": [
    "x0"
   ]
  },
  {
   "cell_type": "code",
   "execution_count": null,
   "metadata": {},
   "outputs": [],
   "source": []
  }
 ],
 "metadata": {
  "kernelspec": {
   "display_name": "Python 3",
   "language": "python",
   "name": "python3"
  },
  "language_info": {
   "codemirror_mode": {
    "name": "ipython",
    "version": 3
   },
   "file_extension": ".py",
   "mimetype": "text/x-python",
   "name": "python",
   "nbconvert_exporter": "python",
   "pygments_lexer": "ipython3",
   "version": "3.8.3-final"
  }
 },
 "nbformat": 4,
 "nbformat_minor": 4
}