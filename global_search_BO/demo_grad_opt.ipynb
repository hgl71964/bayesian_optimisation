{
 "cells": [
  {
   "cell_type": "code",
   "execution_count": 1,
   "metadata": {},
   "outputs": [],
   "source": [
    "import numpy as np\n",
    "import sys\n",
    "import os\n",
    "import matplotlib.pyplot as plt\n",
    "import copy\n",
    "import torch as tr\n",
    "\n",
    "# import scripts\n",
    "from src.es import random_opt\n",
    "from src.es import evolutionary_strategy\n",
    "from src.grad_opt import ADAM_opt\n",
    "from src.api_helper import api_utils\n",
    "from src.api_helper import env\n",
    "import copyreg\n",
    "\n",
    "device = tr.device(\"cuda\" if tr.cuda.is_available() else \"cpu\")\n",
    "dtype = tr.float32"
   ]
  },
  {
   "cell_type": "markdown",
   "metadata": {},
   "source": [
    "##### data"
   ]
  },
  {
   "cell_type": "code",
   "execution_count": 23,
   "metadata": {},
   "outputs": [
    {
     "output_type": "stream",
     "name": "stdout",
     "text": [
      "init query: tensor([[0.7851, 0.4338]])\ninit reward: tensor([[-1.]]), origin reward: 3.38\n"
     ]
    }
   ],
   "source": [
    "## multi-process has problem with decorator\n",
    "# def af(query): return env.rosenbrock(query); api = api_utils.multi_process_transform(af) \n",
    "\n",
    "@api_utils.transform\n",
    "def api(query): return env.rosenbrock(query)\n",
    "\n",
    "# @api_utils.multi_thread_transform\n",
    "# def api(query): return env.rosenbrock(query)\n",
    "\n",
    "x0, y0 = tr.rand(2).view(1, -1), tr.tensor([[-1]], dtype=dtype).view(-1, 1)  \n",
    "r0 = env.rosenbrock(x0)  # initial reward on which normalisation based\n",
    "\n",
    "x0, y0= x0.to(device), y0.to(device)  # data in GPU\n",
    "\n",
    "print(\"init query:\", x0); print(f\"init reward: {api(x0, r0, device)}, origin reward: {r0.item():.2f}\")  # x,y stay on GPU while r0 in cpu\n",
    "\n"
   ]
  },
  {
   "cell_type": "markdown",
   "metadata": {},
   "source": [
    "##### OPT"
   ]
  },
  {
   "cell_type": "code",
   "execution_count": 24,
   "metadata": {},
   "outputs": [],
   "source": [
    "# hyperparameters\n",
    "T = 10  # total number of iterations\n",
    "\n",
    "adam = ADAM_opt(); ram_opt = random_opt(); es = evolutionary_strategy()"
   ]
  },
  {
   "cell_type": "code",
   "execution_count": 25,
   "metadata": {},
   "outputs": [
    {
     "output_type": "stream",
     "name": "stdout",
     "text": [
      "CPU times: user 7.72 ms, sys: 2.51 ms, total: 10.2 ms\nWall time: 10.1 ms\n"
     ]
    },
    {
     "output_type": "execute_result",
     "data": {
      "text/plain": [
       "(tensor([[ 0.7851,  0.4338],\n",
       "         [-0.7076, -0.3452],\n",
       "         [ 0.8915,  0.7003],\n",
       "         [-0.6418, -0.0364],\n",
       "         [ 0.7742, -0.1271],\n",
       "         [-0.0580, -0.0178],\n",
       "         [ 0.5339, -0.6366],\n",
       "         [ 0.7166,  0.5964],\n",
       "         [ 0.4342, -0.0336],\n",
       "         [ 0.4353,  0.9186],\n",
       "         [ 0.1824, -0.4164],\n",
       "         [ 0.0124,  0.7944],\n",
       "         [ 0.5436,  0.0017],\n",
       "         [ 0.8805,  0.9492],\n",
       "         [ 0.0649, -0.8682],\n",
       "         [ 0.4864,  0.6199],\n",
       "         [-0.9395, -0.7662],\n",
       "         [ 0.2736,  0.6889],\n",
       "         [-0.6255,  0.3513],\n",
       "         [-0.8264,  0.4318],\n",
       "         [ 0.6581, -0.4906]]),\n",
       " tensor([ -1.0000, -22.0493,  -0.2671,  -6.7469, -15.6414,  -0.3447, -25.2135,\n",
       "          -0.2270,  -1.5565, -15.8341,  -6.1847, -18.9651,  -2.6166,  -0.9000,\n",
       "         -22.7946,  -4.4290, -81.6088, -11.3209,  -0.8294,  -2.8553, -25.2940]))"
      ]
     },
     "metadata": {},
     "execution_count": 25
    }
   ],
   "source": [
    "%%time\n",
    "ram_opt.outer_loop(T, (-1,1), x0, r0, api, batch_size=2)"
   ]
  },
  {
   "cell_type": "code",
   "execution_count": 26,
   "metadata": {
    "scrolled": true
   },
   "outputs": [
    {
     "output_type": "stream",
     "name": "stdout",
     "text": [
      "CPU times: user 10.5 ms, sys: 1.2 ms, total: 11.7 ms\nWall time: 11.1 ms\n"
     ]
    },
    {
     "output_type": "execute_result",
     "data": {
      "text/plain": [
       "(tensor([[0.7851, 0.4338],\n",
       "         [0.7841, 0.4348],\n",
       "         [0.7831, 0.4358],\n",
       "         [0.7821, 0.4368],\n",
       "         [0.7811, 0.4378],\n",
       "         [0.7801, 0.4388],\n",
       "         [0.7791, 0.4398],\n",
       "         [0.7781, 0.4408],\n",
       "         [0.7771, 0.4418],\n",
       "         [0.7761, 0.4428]]),\n",
       " tensor([-1.0000, -0.9726, -0.9455, -0.9189, -0.8927, -0.8670, -0.8417, -0.8168,\n",
       "         -0.7923, -0.7683]))"
      ]
     },
     "metadata": {},
     "execution_count": 26
    }
   ],
   "source": [
    "%%time\n",
    "adam.outer_loop(T, x0, r0, api, env.rosenbrock_grad)"
   ]
  },
  {
   "cell_type": "code",
   "execution_count": 5,
   "metadata": {},
   "outputs": [
    {
     "output_type": "error",
     "ename": "RuntimeError",
     "evalue": "The expanded size of the tensor (0) must match the existing size (10) at non-singleton dimension 0.  Target sizes: [0].  Tensor sizes: [10]",
     "traceback": [
      "\u001b[0;31m---------------------------------------------------------------------------\u001b[0m",
      "\u001b[0;31mRuntimeError\u001b[0m                              Traceback (most recent call last)",
      "\u001b[0;32m<ipython-input-5-a39a4d7100d3>\u001b[0m in \u001b[0;36m<module>\u001b[0;34m\u001b[0m\n\u001b[0;32m----> 1\u001b[0;31m \u001b[0mram_opt\u001b[0m\u001b[0;34m.\u001b[0m\u001b[0mouter_loop\u001b[0m\u001b[0;34m(\u001b[0m\u001b[0mT\u001b[0m\u001b[0;34m,\u001b[0m \u001b[0;34m(\u001b[0m\u001b[0;34m-\u001b[0m\u001b[0;36m1\u001b[0m\u001b[0;34m,\u001b[0m\u001b[0;36m1\u001b[0m\u001b[0;34m)\u001b[0m\u001b[0;34m,\u001b[0m \u001b[0mx0\u001b[0m\u001b[0;34m,\u001b[0m \u001b[0mr0\u001b[0m\u001b[0;34m,\u001b[0m \u001b[0mapi\u001b[0m\u001b[0;34m,\u001b[0m \u001b[0mbatch_size\u001b[0m\u001b[0;34m=\u001b[0m\u001b[0;36m10\u001b[0m\u001b[0;34m)\u001b[0m\u001b[0;34m\u001b[0m\u001b[0;34m\u001b[0m\u001b[0m\n\u001b[0m",
      "\u001b[0;32m/usr/src/app/bayesian_optimisation/global_search_BO/src/es.py\u001b[0m in \u001b[0;36mouter_loop\u001b[0;34m(self, T, domain, x0, r0, api, batch_size)\u001b[0m\n\u001b[1;32m     67\u001b[0m \u001b[0;34m\u001b[0m\u001b[0m\n\u001b[1;32m     68\u001b[0m             \u001b[0mx\u001b[0m\u001b[0;34m[\u001b[0m\u001b[0;36m1\u001b[0m\u001b[0;34m+\u001b[0m\u001b[0mi\u001b[0m \u001b[0;34m*\u001b[0m \u001b[0mbatch_size\u001b[0m \u001b[0;34m:\u001b[0m \u001b[0;36m1\u001b[0m \u001b[0;34m+\u001b[0m \u001b[0;34m(\u001b[0m\u001b[0mi\u001b[0m\u001b[0;34m+\u001b[0m\u001b[0;36m1\u001b[0m\u001b[0;34m)\u001b[0m \u001b[0;34m*\u001b[0m \u001b[0mbatch_size\u001b[0m\u001b[0;34m]\u001b[0m\u001b[0;34m,\u001b[0m\u001b[0;31m \u001b[0m\u001b[0;31m\\\u001b[0m\u001b[0;34m\u001b[0m\u001b[0;34m\u001b[0m\u001b[0m\n\u001b[0;32m---> 69\u001b[0;31m                 \u001b[0my\u001b[0m\u001b[0;34m[\u001b[0m\u001b[0;36m1\u001b[0m\u001b[0;34m+\u001b[0m\u001b[0mi\u001b[0m \u001b[0;34m*\u001b[0m \u001b[0mbatch_size\u001b[0m \u001b[0;34m:\u001b[0m \u001b[0;36m1\u001b[0m \u001b[0;34m+\u001b[0m \u001b[0;34m(\u001b[0m\u001b[0mi\u001b[0m\u001b[0;34m+\u001b[0m\u001b[0;36m1\u001b[0m\u001b[0;34m)\u001b[0m \u001b[0;34m*\u001b[0m \u001b[0mbatch_size\u001b[0m\u001b[0;34m]\u001b[0m \u001b[0;34m=\u001b[0m \u001b[0mquery\u001b[0m\u001b[0;34m,\u001b[0m \u001b[0mreward\u001b[0m\u001b[0;34m\u001b[0m\u001b[0;34m\u001b[0m\u001b[0m\n\u001b[0m\u001b[1;32m     70\u001b[0m                 \u001b[0;31m#  storage may become a bottleneck due to big data\u001b[0m\u001b[0;34m\u001b[0m\u001b[0;34m\u001b[0m\u001b[0;34m\u001b[0m\u001b[0m\n\u001b[1;32m     71\u001b[0m \u001b[0;34m\u001b[0m\u001b[0m\n",
      "\u001b[0;31mRuntimeError\u001b[0m: The expanded size of the tensor (0) must match the existing size (10) at non-singleton dimension 0.  Target sizes: [0].  Tensor sizes: [10]"
     ]
    }
   ],
   "source": []
  },
  {
   "cell_type": "code",
   "execution_count": null,
   "metadata": {},
   "outputs": [],
   "source": []
  }
 ],
 "metadata": {
  "kernelspec": {
   "display_name": "Python 3",
   "language": "python",
   "name": "python3"
  },
  "language_info": {
   "codemirror_mode": {
    "name": "ipython",
    "version": 3
   },
   "file_extension": ".py",
   "mimetype": "text/x-python",
   "name": "python",
   "nbconvert_exporter": "python",
   "pygments_lexer": "ipython3",
   "version": "3.8.3-final"
  }
 },
 "nbformat": 4,
 "nbformat_minor": 4
}