{
 "cells": [
  {
   "cell_type": "code",
   "execution_count": 16,
   "metadata": {},
   "outputs": [],
   "source": [
    "#  this notebook showcases multi-threading to query the objective functions!\n",
    "import torch as tr\n",
    "# import scripts\n",
    "from src.api_helper import env\n",
    "import concurrent.futures\n",
    "import multiprocessing\n",
    "dtype=tr.float32"
   ]
  },
  {
   "cell_type": "markdown",
   "metadata": {},
   "source": [
    "##### data"
   ]
  },
  {
   "cell_type": "code",
   "execution_count": 17,
   "metadata": {},
   "outputs": [
    {
     "output_type": "execute_result",
     "data": {
      "text/plain": [
       "tensor([100.])"
      ]
     },
     "metadata": {},
     "execution_count": 17
    }
   ],
   "source": [
    "env.rosenbrock(tr.tensor([1,2],dtype=dtype))  # query the objective functions"
   ]
  },
  {
   "cell_type": "code",
   "execution_count": 35,
   "metadata": {},
   "outputs": [],
   "source": [
    "n = 10000"
   ]
  },
  {
   "cell_type": "code",
   "execution_count": 36,
   "metadata": {},
   "outputs": [],
   "source": [
    "def thread_function_io(name, query):\n",
    "    print(\"Thread %s: starting\", name)\n",
    "    env.rosenbrock(query)\n",
    "    print(\"Thread %s: finishing\", name)\n",
    "\n",
    "def thread_function_cpu(query):\n",
    "    # print(\"Thread %s: starting\", name)\n",
    "    env.rosenbrock(query)\n",
    "    # print(\"Thread %s: finishing\", name)\n",
    "\n",
    "names = [f\"thread_{i}\" for i in range(n)]\n",
    "q = [tr.tensor([1,2],dtype=dtype)] * n"
   ]
  },
  {
   "cell_type": "code",
   "execution_count": 37,
   "metadata": {
    "scrolled": true
   },
   "outputs": [
    {
     "output_type": "stream",
     "name": "stdout",
     "text": [
      "CPU times: user 397 ms, sys: 106 ms, total: 504 ms\nWall time: 485 ms\n"
     ]
    }
   ],
   "source": [
    "%%time\n",
    "with concurrent.futures.ThreadPoolExecutor(max_workers=5) as executor:  # context \n",
    "    executor.map(thread_function_io, zip(names, q))"
   ]
  },
  {
   "cell_type": "code",
   "execution_count": 41,
   "metadata": {},
   "outputs": [
    {
     "output_type": "stream",
     "name": "stdout",
     "text": [
      "CPU times: user 5 s, sys: 4.26 s, total: 9.26 s\nWall time: 11 s\n"
     ]
    }
   ],
   "source": [
    "%%time\n",
    "with concurrent.futures.ProcessPoolExecutor(3) as executor:  # context \n",
    "    executor.map(thread_function_cpu, q)"
   ]
  },
  {
   "cell_type": "code",
   "execution_count": 50,
   "metadata": {},
   "outputs": [
    {
     "output_type": "stream",
     "name": "stdout",
     "text": [
      "CPU times: user 2.68 s, sys: 1.65 s, total: 4.33 s\nWall time: 3.03 s\n"
     ]
    }
   ],
   "source": [
    "%%time\n",
    "with multiprocessing.pool.ThreadPool(3) as pool:  #\n",
    "    pool.map(thread_function_cpu,  q)"
   ]
  },
  {
   "cell_type": "code",
   "execution_count": 42,
   "metadata": {},
   "outputs": [
    {
     "output_type": "stream",
     "name": "stdout",
     "text": [
      "CPU times: user 14.4 ms, sys: 36.2 ms, total: 50.6 ms\nWall time: 357 ms\n"
     ]
    }
   ],
   "source": [
    "%%time\n",
    "with multiprocessing.Pool(processes=3) as pool:  # because this is cpu bound \n",
    "    pool.map(thread_function_cpu,  q)"
   ]
  },
  {
   "cell_type": "code",
   "execution_count": 40,
   "metadata": {},
   "outputs": [
    {
     "output_type": "stream",
     "name": "stdout",
     "text": [
      "CPU times: user 862 ms, sys: 3.41 ms, total: 865 ms\nWall time: 868 ms\n"
     ]
    }
   ],
   "source": [
    "%%time \n",
    "for i in range(n):\n",
    "    env.rosenbrock(q[i])"
   ]
  },
  {
   "cell_type": "code",
   "execution_count": null,
   "metadata": {},
   "outputs": [],
   "source": []
  },
  {
   "cell_type": "code",
   "execution_count": 51,
   "metadata": {},
   "outputs": [
    {
     "output_type": "execute_result",
     "data": {
      "text/plain": [
       "[tensor([0.5559, 0.9875])]"
      ]
     },
     "metadata": {},
     "execution_count": 51
    }
   ],
   "source": [
    "q = [tr.rand(2,) for _ in range(1)]\n",
    "q"
   ]
  },
  {
   "cell_type": "code",
   "execution_count": 52,
   "metadata": {},
   "outputs": [
    {
     "output_type": "execute_result",
     "data": {
      "text/plain": [
       "tensor([[0.5559, 0.9875]])"
      ]
     },
     "metadata": {},
     "execution_count": 52
    }
   ],
   "source": [
    "a = tr.zeros(2,)\n",
    "for i in q:\n",
    "    a = tr.cat([a,i])\n",
    "a = a[2:].view(-1,2)\n",
    "a\n"
   ]
  },
  {
   "cell_type": "code",
   "execution_count": 53,
   "metadata": {},
   "outputs": [
    {
     "output_type": "stream",
     "name": "stdout",
     "text": [
      "tensor([46.2211])\n"
     ]
    }
   ],
   "source": [
    "with multiprocessing.Pool(processes=5) as pool:  # because this is cpu bound \n",
    "    for i, r in enumerate(pool.map(env.rosenbrock,  a)):\n",
    "        print(r)"
   ]
  },
  {
   "cell_type": "code",
   "execution_count": 56,
   "metadata": {},
   "outputs": [
    {
     "output_type": "stream",
     "name": "stdout",
     "text": [
      "tensor([46.2211])\n"
     ]
    }
   ],
   "source": [
    "with concurrent.futures.ThreadPoolExecutor(max_workers=5) as executor:  # context \n",
    "    for i,r in enumerate(executor.map(env.rosenbrock,  q)):\n",
    "        print(r)"
   ]
  },
  {
   "cell_type": "code",
   "execution_count": 57,
   "metadata": {},
   "outputs": [
    {
     "output_type": "stream",
     "name": "stdout",
     "text": [
      "tensor([46.2211])\n"
     ]
    }
   ],
   "source": [
    "with concurrent.futures.ThreadPoolExecutor(max_workers=5) as executor:  # context \n",
    "    for i,r in enumerate(executor.map(env.rosenbrock,  a)):\n",
    "        print(r)"
   ]
  }
 ],
 "metadata": {
  "kernelspec": {
   "display_name": "Python 3",
   "language": "python",
   "name": "python3"
  },
  "language_info": {
   "codemirror_mode": {
    "name": "ipython",
    "version": 3
   },
   "file_extension": ".py",
   "mimetype": "text/x-python",
   "name": "python",
   "nbconvert_exporter": "python",
   "pygments_lexer": "ipython3",
   "version": "3.8.3-final"
  }
 },
 "nbformat": 4,
 "nbformat_minor": 4
}