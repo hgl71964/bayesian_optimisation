{
 "cells": [
  {
   "cell_type": "code",
   "execution_count": 27,
   "metadata": {},
   "outputs": [],
   "source": [
    "#  this notebook showcases multi-threading to query the objective functions!\n",
    "\n",
    "import torch as tr\n",
    "# import scripts\n",
    "from src.api_helper import env\n",
    "import concurrent.futures"
   ]
  },
  {
   "cell_type": "markdown",
   "metadata": {},
   "source": [
    "##### data"
   ]
  },
  {
   "cell_type": "code",
   "execution_count": 10,
   "metadata": {},
   "outputs": [
    {
     "output_type": "execute_result",
     "data": {
      "text/plain": [
       "tensor([100.])"
      ]
     },
     "metadata": {},
     "execution_count": 10
    }
   ],
   "source": [
    "env.rosenbrock(tr.tensor([1,2],dtype=dtype))  # query the objective functions"
   ]
  },
  {
   "cell_type": "code",
   "execution_count": 11,
   "metadata": {},
   "outputs": [],
   "source": [
    "n = 10000"
   ]
  },
  {
   "cell_type": "code",
   "execution_count": 42,
   "metadata": {},
   "outputs": [],
   "source": [
    "def thread_function_io(name, query):\n",
    "    print(\"Thread %s: starting\", name)\n",
    "    env.rosenbrock(query)\n",
    "    print(\"Thread %s: finishing\", name)\n",
    "\n",
    "def thread_function_cpu(query):\n",
    "    # print(\"Thread %s: starting\", name)\n",
    "    env.rosenbrock(query)\n",
    "    # print(\"Thread %s: finishing\", name)\n",
    "\n",
    "names = [f\"thread_{i}\" for i in range(n)]\n",
    "q = [tr.tensor([1,2],dtype=dtype)] * n"
   ]
  },
  {
   "cell_type": "code",
   "execution_count": 49,
   "metadata": {
    "scrolled": true
   },
   "outputs": [
    {
     "output_type": "stream",
     "name": "stdout",
     "text": [
      "CPU times: user 1.01 s, sys: 386 ms, total: 1.4 s\nWall time: 1.32 s\n"
     ]
    }
   ],
   "source": [
    "%%time\n",
    "# concurrent.futures.ThreadPoolExecutor, ProcessPoolExecutor\n",
    "with concurrent.futures.ThreadPoolExecutor(max_workers=5) as executor:  # context \n",
    "    executor.map(thread_function_io, zip(names, q))"
   ]
  },
  {
   "cell_type": "code",
   "execution_count": 50,
   "metadata": {},
   "outputs": [
    {
     "output_type": "stream",
     "name": "stdout",
     "text": [
      "CPU times: user 4.5 s, sys: 4.32 s, total: 8.82 s\nWall time: 6.23 s\n"
     ]
    }
   ],
   "source": [
    "%%time\n",
    "with concurrent.futures.ThreadPoolExecutor(max_workers=5) as executor:  \n",
    "    executor.map(thread_function_cpu,  q)"
   ]
  },
  {
   "cell_type": "code",
   "execution_count": 52,
   "metadata": {},
   "outputs": [
    {
     "output_type": "stream",
     "name": "stdout",
     "text": [
      "CPU times: user 854 ms, sys: 0 ns, total: 854 ms\nWall time: 856 ms\n"
     ]
    }
   ],
   "source": [
    "%%time \n",
    "query = tr.tensor([1,2],dtype=dtype)\n",
    "for i in range(n):\n",
    "    # print(\"name %s\", i) # io\n",
    "    env.rosenbrock(query)"
   ]
  },
  {
   "cell_type": "code",
   "execution_count": 70,
   "metadata": {
    "tags": []
   },
   "outputs": [],
   "source": [
    "# %%time \n",
    "# query = tr.tensor([1,2],dtype=dtype)\n",
    "# for i in range(n):\n",
    "#     print(\"name %s\", i) # io\n",
    "#     env.rosenbrock(query)"
   ]
  },
  {
   "cell_type": "code",
   "execution_count": null,
   "metadata": {},
   "outputs": [],
   "source": []
  },
  {
   "cell_type": "code",
   "execution_count": null,
   "metadata": {},
   "outputs": [],
   "source": []
  },
  {
   "cell_type": "code",
   "execution_count": null,
   "metadata": {},
   "outputs": [],
   "source": []
  },
  {
   "cell_type": "code",
   "execution_count": null,
   "metadata": {},
   "outputs": [],
   "source": []
  },
  {
   "cell_type": "code",
   "execution_count": 121,
   "metadata": {},
   "outputs": [
    {
     "output_type": "execute_result",
     "data": {
      "text/plain": [
       "[tensor([0.4030, 0.7659]),\n",
       " tensor([0.9961, 0.3752]),\n",
       " tensor([0.6323, 0.7334]),\n",
       " tensor([0.3773, 0.3514]),\n",
       " tensor([0.0483, 0.7080])]"
      ]
     },
     "metadata": {},
     "execution_count": 121
    }
   ],
   "source": [
    "q = [tr.rand(2,) for _ in range(5)]\n",
    "q"
   ]
  },
  {
   "cell_type": "code",
   "execution_count": 130,
   "metadata": {},
   "outputs": [],
   "source": [
    "with concurrent.futures.ThreadPoolExecutor(max_workers=5) as executor:  # context \n",
    "    ans = executor.map(env.rosenbrock,  q)"
   ]
  },
  {
   "cell_type": "code",
   "execution_count": 131,
   "metadata": {},
   "outputs": [
    {
     "output_type": "stream",
     "name": "stdout",
     "text": [
      "tensor([36.7852])\ntensor([38.0670])\ntensor([11.2667])\ntensor([4.7566])\ntensor([50.6973])\n"
     ]
    }
   ],
   "source": [
    "for i in ans:\n",
    "    print(i)"
   ]
  },
  {
   "cell_type": "code",
   "execution_count": null,
   "metadata": {},
   "outputs": [],
   "source": []
  }
 ],
 "metadata": {
  "kernelspec": {
   "display_name": "Python 3",
   "language": "python",
   "name": "python3"
  },
  "language_info": {
   "codemirror_mode": {
    "name": "ipython",
    "version": 3
   },
   "file_extension": ".py",
   "mimetype": "text/x-python",
   "name": "python",
   "nbconvert_exporter": "python",
   "pygments_lexer": "ipython3",
   "version": "3.8.3-final"
  }
 },
 "nbformat": 4,
 "nbformat_minor": 4
}