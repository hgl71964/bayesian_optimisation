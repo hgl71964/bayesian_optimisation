{
 "cells": [
  {
   "cell_type": "code",
   "execution_count": 26,
   "metadata": {},
   "outputs": [],
   "source": [
    "#  this notebook showcases multi-threading to query the objective functions!\n",
    "import torch as tr\n",
    "# import scripts\n",
    "from src.api_helper import env\n",
    "import concurrent.futures\n",
    "import multiprocessing\n",
    "dtype=tr.float32"
   ]
  },
  {
   "cell_type": "markdown",
   "metadata": {},
   "source": [
    "##### data"
   ]
  },
  {
   "cell_type": "code",
   "execution_count": 27,
   "metadata": {},
   "outputs": [
    {
     "output_type": "execute_result",
     "data": {
      "text/plain": [
       "tensor([100.])"
      ]
     },
     "metadata": {},
     "execution_count": 27
    }
   ],
   "source": [
    "env.rosenbrock(tr.tensor([1,2],dtype=dtype))  # query the objective functions"
   ]
  },
  {
   "cell_type": "code",
   "execution_count": 44,
   "metadata": {},
   "outputs": [],
   "source": [
    "n = 10000"
   ]
  },
  {
   "cell_type": "code",
   "execution_count": 45,
   "metadata": {},
   "outputs": [],
   "source": [
    "def thread_function_io(name, query):\n",
    "    print(\"Thread %s: starting\", name)\n",
    "    env.rosenbrock(query)\n",
    "    print(\"Thread %s: finishing\", name)\n",
    "\n",
    "def thread_function_cpu(query):\n",
    "    # print(\"Thread %s: starting\", name)\n",
    "    env.rosenbrock(query)\n",
    "    # print(\"Thread %s: finishing\", name)\n",
    "\n",
    "names = [f\"thread_{i}\" for i in range(n)]\n",
    "q = [tr.tensor([1,2],dtype=dtype)] * n"
   ]
  },
  {
   "cell_type": "code",
   "execution_count": 46,
   "metadata": {
    "scrolled": true
   },
   "outputs": [
    {
     "output_type": "stream",
     "name": "stdout",
     "text": [
      "CPU times: user 486 ms, sys: 20.1 ms, total: 506 ms\nWall time: 497 ms\n"
     ]
    }
   ],
   "source": [
    "%%time\n",
    "# concurrent.futures.ThreadPoolExecutor\n",
    "with concurrent.futures.ThreadPoolExecutor(max_workers=5) as executor:  # context \n",
    "    executor.map(thread_function_io, zip(names, q))"
   ]
  },
  {
   "cell_type": "code",
   "execution_count": 47,
   "metadata": {},
   "outputs": [
    {
     "output_type": "stream",
     "name": "stdout",
     "text": [
      "CPU times: user 23.2 ms, sys: 38.6 ms, total: 61.8 ms\nWall time: 416 ms\n"
     ]
    }
   ],
   "source": [
    "%%time\n",
    "with multiprocessing.Pool(processes=3) as pool:  # because this is cpu bound \n",
    "    pool.map(thread_function_cpu,  q)"
   ]
  },
  {
   "cell_type": "code",
   "execution_count": 49,
   "metadata": {},
   "outputs": [
    {
     "output_type": "stream",
     "name": "stdout",
     "text": [
      "CPU times: user 897 ms, sys: 0 ns, total: 897 ms\nWall time: 899 ms\n"
     ]
    }
   ],
   "source": [
    "%%time \n",
    "for i in range(n):\n",
    "    env.rosenbrock(q[i])"
   ]
  },
  {
   "cell_type": "code",
   "execution_count": null,
   "metadata": {},
   "outputs": [],
   "source": []
  },
  {
   "cell_type": "code",
   "execution_count": null,
   "metadata": {},
   "outputs": [],
   "source": []
  },
  {
   "cell_type": "code",
   "execution_count": 50,
   "metadata": {},
   "outputs": [
    {
     "output_type": "execute_result",
     "data": {
      "text/plain": [
       "[tensor([0.1384, 0.8872]),\n",
       " tensor([0.9864, 0.0389]),\n",
       " tensor([0.8725, 0.6620]),\n",
       " tensor([0.3451, 0.3976]),\n",
       " tensor([0.0514, 0.3934])]"
      ]
     },
     "metadata": {},
     "execution_count": 50
    }
   ],
   "source": [
    "q = [tr.rand(2,) for _ in range(5)]\n",
    "q"
   ]
  },
  {
   "cell_type": "code",
   "execution_count": 51,
   "metadata": {},
   "outputs": [
    {
     "output_type": "execute_result",
     "data": {
      "text/plain": [
       "tensor([[0.1384, 0.8872],\n",
       "        [0.9864, 0.0389],\n",
       "        [0.8725, 0.6620],\n",
       "        [0.3451, 0.3976],\n",
       "        [0.0514, 0.3934]])"
      ]
     },
     "metadata": {},
     "execution_count": 51
    }
   ],
   "source": [
    "a = tr.zeros(2,)\n",
    "for i in q:\n",
    "    a = tr.cat([a,i])\n",
    "a = a[2:].view(-1,2)\n",
    "a\n"
   ]
  },
  {
   "cell_type": "code",
   "execution_count": 52,
   "metadata": {},
   "outputs": [],
   "source": [
    "with concurrent.futures.ThreadPoolExecutor(max_workers=5) as executor:  # context \n",
    "    ans = executor.map(env.rosenbrock,  q)"
   ]
  },
  {
   "cell_type": "code",
   "execution_count": 53,
   "metadata": {},
   "outputs": [
    {
     "output_type": "stream",
     "name": "stdout",
     "text": [
      "tensor([76.0850])\ntensor([87.2680])\ntensor([1.0024])\ntensor([8.1851])\ntensor([16.1666])\n"
     ]
    }
   ],
   "source": [
    "for i in ans:\n",
    "    print(i)"
   ]
  },
  {
   "cell_type": "code",
   "execution_count": 54,
   "metadata": {},
   "outputs": [],
   "source": [
    "with concurrent.futures.ThreadPoolExecutor(max_workers=5) as executor:  # context \n",
    "    ans = executor.map(env.rosenbrock,  a)"
   ]
  },
  {
   "cell_type": "code",
   "execution_count": 55,
   "metadata": {},
   "outputs": [
    {
     "output_type": "stream",
     "name": "stdout",
     "text": [
      "tensor([76.0850])\ntensor([87.2680])\ntensor([1.0024])\ntensor([8.1851])\ntensor([16.1666])\n"
     ]
    }
   ],
   "source": [
    "for i in ans:\n",
    "    print(i)"
   ]
  },
  {
   "cell_type": "code",
   "execution_count": 56,
   "metadata": {},
   "outputs": [],
   "source": [
    "with multiprocessing.Pool(processes=3) as pool:  # because this is cpu bound \n",
    "    ans = pool.map(env.rosenbrock,  a)"
   ]
  },
  {
   "cell_type": "code",
   "execution_count": 57,
   "metadata": {},
   "outputs": [
    {
     "output_type": "stream",
     "name": "stdout",
     "text": [
      "tensor([76.0850])\ntensor([87.2680])\ntensor([1.0024])\ntensor([8.1851])\ntensor([16.1666])\n"
     ]
    }
   ],
   "source": [
    "for i in ans:\n",
    "    print(i)"
   ]
  },
  {
   "cell_type": "code",
   "execution_count": null,
   "metadata": {},
   "outputs": [],
   "source": []
  }
 ],
 "metadata": {
  "kernelspec": {
   "display_name": "Python 3",
   "language": "python",
   "name": "python3"
  },
  "language_info": {
   "codemirror_mode": {
    "name": "ipython",
    "version": 3
   },
   "file_extension": ".py",
   "mimetype": "text/x-python",
   "name": "python",
   "nbconvert_exporter": "python",
   "pygments_lexer": "ipython3",
   "version": "3.8.3-final"
  }
 },
 "nbformat": 4,
 "nbformat_minor": 4
}