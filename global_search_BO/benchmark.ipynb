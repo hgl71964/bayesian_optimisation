{
 "cells": [
  {
   "cell_type": "code",
   "execution_count": 8,
   "metadata": {},
   "outputs": [],
   "source": [
    "import numpy as np\n",
    "import sys\n",
    "import os\n",
    "import matplotlib.pyplot as plt\n",
    "import copy\n",
    "import torch as tr\n",
    "\n",
    "# import scripts\n",
    "from src.es import random_opt\n",
    "from src.es import evolutionary_strategy\n",
    "from src.grad_opt import ADAM_opt\n",
    "from src.api_helper import api_utils\n",
    "from src.api_helper import env\n",
    "import copyreg\n",
    "\n",
    "device = tr.device(\"cuda\" if tr.cuda.is_available() else \"cpu\")\n",
    "dtype = tr.float32"
   ]
  },
  {
   "cell_type": "markdown",
   "metadata": {},
   "source": [
    "##### data"
   ]
  },
  {
   "cell_type": "code",
   "execution_count": 9,
   "metadata": {},
   "outputs": [
    {
     "output_type": "stream",
     "name": "stdout",
     "text": [
      "init query: tensor([[4., 4.]])\ninit reward: tensor([[-1.]]), origin reward: 14409.00\n"
     ]
    }
   ],
   "source": [
    "## multi-process has problem with decorator\n",
    "# def af(query): return env.rosenbrock(query); api = api_utils.multi_process_transform(af) \n",
    "\n",
    "@api_utils.transform\n",
    "def api(query): return env.rosenbrock(query)\n",
    "\n",
    "# @api_utils.multi_thread_transform\n",
    "# def api(query): return env.rosenbrock(query)\n",
    "\n",
    "x0, y0 = tr.tensor([4,4], dtype=dtype).view(1, -1), tr.tensor([[-1]], dtype=dtype).view(-1, 1)  \n",
    "r0 = env.rosenbrock(x0)  # initial reward on which normalisation based\n",
    "\n",
    "x0, y0= x0.to(device), y0.to(device)  # data in GPU\n",
    "\n",
    "print(\"init query:\", x0); print(f\"init reward: {api(x0, r0, device)}, origin reward: {r0.item():.2f}\")  # x,y stay on GPU while r0 in cpu\n",
    "\n"
   ]
  },
  {
   "cell_type": "markdown",
   "metadata": {},
   "source": [
    "##### OPT"
   ]
  },
  {
   "cell_type": "code",
   "execution_count": 10,
   "metadata": {},
   "outputs": [],
   "source": [
    "# hyperparameters\n",
    "T = 20  # total number of iterations\n",
    "\n",
    "adam = ADAM_opt(); ram_opt = random_opt(); es = evolutionary_strategy()"
   ]
  },
  {
   "cell_type": "code",
   "execution_count": 11,
   "metadata": {},
   "outputs": [
    {
     "output_type": "stream",
     "name": "stdout",
     "text": [
      "CPU times: user 238 ms, sys: 3.41 ms, total: 241 ms\nWall time: 270 ms\n"
     ]
    }
   ],
   "source": [
    "%%time\n",
    "x,y = es.outer_loop(T, x0, r0, api)"
   ]
  },
  {
   "cell_type": "code",
   "execution_count": 17,
   "metadata": {},
   "outputs": [],
   "source": [
    "# tr.save((x, y, \"20_def_es\"), \"./data/20_def_es.pt\")"
   ]
  },
  {
   "cell_type": "code",
   "execution_count": 19,
   "metadata": {},
   "outputs": [
    {
     "output_type": "stream",
     "name": "stdout",
     "text": [
      "CPU times: user 14.6 ms, sys: 2.16 ms, total: 16.7 ms\nWall time: 17.6 ms\n"
     ]
    }
   ],
   "source": [
    "%%time\n",
    "x,y = ram_opt.outer_loop(T, (-4,4), x0, r0, api, batch_size=2)"
   ]
  },
  {
   "cell_type": "code",
   "execution_count": null,
   "metadata": {},
   "outputs": [],
   "source": [
    "# tr.save((x, y, \"20_random\"), \"./data/20_random.pt\")"
   ]
  },
  {
   "cell_type": "code",
   "execution_count": 20,
   "metadata": {
    "scrolled": true
   },
   "outputs": [
    {
     "output_type": "stream",
     "name": "stdout",
     "text": [
      "CPU times: user 19.9 ms, sys: 966 µs, total: 20.8 ms\nWall time: 22.5 ms\n"
     ]
    }
   ],
   "source": [
    "%%time\n",
    "x1,y1 = adam.outer_loop(T, x0, r0, api, env.rosenbrock_grad)"
   ]
  },
  {
   "cell_type": "code",
   "execution_count": 21,
   "metadata": {},
   "outputs": [],
   "source": [
    "# tr.save((x1, y1, \"20_def_adam\"), \"./data/20_def_adam.pt\")"
   ]
  },
  {
   "cell_type": "code",
   "execution_count": null,
   "metadata": {},
   "outputs": [],
   "source": []
  }
 ],
 "metadata": {
  "kernelspec": {
   "display_name": "Python 3",
   "language": "python",
   "name": "python3"
  },
  "language_info": {
   "codemirror_mode": {
    "name": "ipython",
    "version": 3
   },
   "file_extension": ".py",
   "mimetype": "text/x-python",
   "name": "python",
   "nbconvert_exporter": "python",
   "pygments_lexer": "ipython3",
   "version": "3.8.3-final"
  }
 },
 "nbformat": 4,
 "nbformat_minor": 4
}