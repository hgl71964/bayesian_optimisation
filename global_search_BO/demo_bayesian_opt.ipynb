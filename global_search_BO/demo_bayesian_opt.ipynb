{
 "cells": [
  {
   "cell_type": "code",
   "execution_count": 5,
   "metadata": {},
   "outputs": [],
   "source": [
    "import numpy as np\n",
    "import sys\n",
    "import os\n",
    "import matplotlib.pyplot as plt\n",
    "import copy\n",
    "import torch as tr\n",
    "\n",
    "# import scripts\n",
    "from src.Botorch_opt import bayesian_optimiser\n",
    "from src.api_helper import api_utils\n",
    "from src.api_helper import env\n",
    "from datetime import datetime as dt, date as dt_date\n",
    "\n",
    "dtype = tr.float32"
   ]
  },
  {
   "cell_type": "markdown",
   "metadata": {},
   "source": [
    "##### data"
   ]
  },
  {
   "cell_type": "code",
   "execution_count": 6,
   "metadata": {},
   "outputs": [
    {
     "output_type": "stream",
     "name": "stdout",
     "text": [
      "init query tensor([[0.0150, 0.5419]])\ninit reward tensor([[-1.]])\n"
     ]
    }
   ],
   "source": [
    "@api_utils.transform\n",
    "def api(query): return env.rosenbrock(query)\n",
    "\n",
    "x0, y0 = tr.rand(2).view(1, -1), tr.tensor([[-1]], dtype=tr.float).view(-1, 1)  \n",
    "r0 = env.rosenbrock(x0)  # initial reward on which normalisation based\n",
    "\n",
    "print(\"init query\", x0); print(\"init reward\", api(x0, r0))"
   ]
  },
  {
   "cell_type": "markdown",
   "metadata": {},
   "source": [
    "##### OPT"
   ]
  },
  {
   "cell_type": "code",
   "execution_count": 7,
   "metadata": {},
   "outputs": [],
   "source": [
    "# hyperparameters\n",
    "T = 5  # total number of iterations\n",
    "\n",
    "# gp; includes \"MA2.5\", \"SE\", \"RQ\", \"LR\", \"PO\"\n",
    "gp_name, gp_params = \"RQ\",{\n",
    "                          \"mode\": \"pro\",      # \"raw\", \"add\", \"pro\" for GPs\n",
    "                          \"opt\":\"ADAM\",        # opt for MLE; (quasi_newton, ADAM)\n",
    "                          \"epochs\":128,       # if chosen ADAM as opt\n",
    "                          \"lr\":1e-1,          # learning rate for ADAM\n",
    "                         }\n",
    "# q-parallelism (if use analytical acq_func, q must be 1)\n",
    "batch_size = 1\n",
    "\n",
    "acq_params = { \n",
    "    \"acq_name\" : \"UCB\",          # acqu func; includes: \"EI\", \"UCB\", \"qEI\", \"qUCB\", \"qKG\"\n",
    "    \"N_start\": 32,               # number of starts for multi-start SGA\n",
    "    \"raw_samples\" :512,          # heuristic initialisation \n",
    "    \"N_MC_sample\" : 256,         # number of samples for Monte Carlo simulation\n",
    "    \"num_fantasies\": 128,        # number of fantasies used by KG\n",
    "    \"beta\":1.,                   # used by UCB/qUCB\n",
    "               }\n",
    "\n",
    "bayes_opt = bayesian_optimiser(gp_name, gp_params, acq_params)"
   ]
  },
  {
   "cell_type": "code",
   "execution_count": 8,
   "metadata": {
    "scrolled": true
   },
   "outputs": [
    {
     "output_type": "stream",
     "name": "stdout",
     "text": [
      "Iter 128 - Loss: -3.641\n",
      "iteration: 1, reward: -18.38\n",
      "Iter 128 - Loss: 1893.101\n",
      "iteration: 2, reward: -39.85\n",
      "Iter 128 - Loss: 111.415\n",
      "iteration: 3, reward: -8.98\n",
      "Iter 128 - Loss: 7.591\n",
      "iteration: 4, reward: -0.99\n",
      "Iter 128 - Loss: 3.239\n",
      "iteration: 5, reward: -0.98\n",
      "CPU times: user 1min 1s, sys: 1min 23s, total: 2min 25s\n",
      "Wall time: 37 s\n"
     ]
    }
   ],
   "source": [
    "%%time\n",
    "xs, ys = bayes_opt.outer_loop(T, (0,3),x0, y0, r0, api, batch_size)"
   ]
  }
 ],
 "metadata": {
  "kernelspec": {
   "display_name": "Python 3",
   "language": "python",
   "name": "python3"
  },
  "language_info": {
   "codemirror_mode": {
    "name": "ipython",
    "version": 3
   },
   "file_extension": ".py",
   "mimetype": "text/x-python",
   "name": "python",
   "nbconvert_exporter": "python",
   "pygments_lexer": "ipython3",
   "version": "3.8.3-final"
  }
 },
 "nbformat": 4,
 "nbformat_minor": 4
}