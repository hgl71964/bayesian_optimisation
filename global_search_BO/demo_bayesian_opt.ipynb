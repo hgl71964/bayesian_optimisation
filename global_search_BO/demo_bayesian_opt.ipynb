{
 "cells": [
  {
   "cell_type": "code",
   "execution_count": 1,
   "metadata": {},
   "outputs": [],
   "source": [
    "import numpy as np\n",
    "import sys\n",
    "import os\n",
    "import matplotlib.pyplot as plt\n",
    "import copy\n",
    "import torch as tr\n",
    "\n",
    "# import scripts\n",
    "from src.bayes_opt import bayesian_optimiser\n",
    "from src.api_helper import api_utils\n",
    "from src.api_helper import env\n",
    "from datetime import datetime as dt, date as dt_date\n",
    "\n",
    "device = tr.device(\"cuda\" if tr.cuda.is_available() else \"cpu\")\n",
    "dtype = tr.float32"
   ]
  },
  {
   "cell_type": "markdown",
   "metadata": {},
   "source": [
    "##### data"
   ]
  },
  {
   "cell_type": "code",
   "execution_count": 2,
   "metadata": {},
   "outputs": [
    {
     "output_type": "stream",
     "name": "stdout",
     "text": [
      "init query tensor([[4., 4.]])\ninit reward tensor([[-1.]]), origin reward: 14409.00\n"
     ]
    }
   ],
   "source": [
    "@api_utils.transform\n",
    "def api(query): return env.rosenbrock(query)  # computation on cpu\n",
    "\n",
    "x0, y0 = tr.tensor([4, 4], dtype=dtype).view(1, -1), tr.tensor([[-1]], dtype=dtype).view(-1, 1)  \n",
    "r0 = env.rosenbrock(x0)  # initial reward on which normalisation based\n",
    "\n",
    "x0, y0= x0.to(device), y0.to(device)  # data in GPU\n",
    "\n",
    "print(\"init query\", x0); print(f\"init reward {api(x0, r0, device)}, origin reward: {r0.item():.2f}\")  # x,y stay on GPU while r0 in cpu"
   ]
  },
  {
   "cell_type": "markdown",
   "metadata": {},
   "source": [
    "##### OPT"
   ]
  },
  {
   "cell_type": "code",
   "execution_count": 3,
   "metadata": {},
   "outputs": [],
   "source": [
    "# hyperparameters\n",
    "T = 20  # total number of iterations\n",
    "\n",
    "# gp; includes \"MA2.5\", \"SE\", \"RQ\", \"LR\", \"PO\"\n",
    "gp_name, gp_params = \"MA2.5\",{\n",
    "                          \"mode\": \"raw\",      # \"raw\", \"add\", \"pro\" for GPs\n",
    "                          \"opt\":\"ADAM\",  # opt for MLE; (quasi_newton, ADAM)\n",
    "                          \"epochs\":128,       # epoch to run, if chosen ADAM\n",
    "                          \"lr\":1e-1,          # learning rate for ADAM\n",
    "                         }\n",
    "# q-parallelism (if use analytical acq_func, q must be 1)\n",
    "batch_size = 1\n",
    "\n",
    "acq_params = { \n",
    "    \"acq_name\" : \"UCB\",          # acqu func; includes: \"EI\", \"UCB\", \"qEI\", \"qUCB\", \"qKG\"\n",
    "    \"N_start\": 32,               # number of starts for multi-start SGA\n",
    "    \"raw_samples\" :512,          # heuristic initialisation \n",
    "    \"N_MC_sample\" : 256,         # number of samples for Monte Carlo simulation\n",
    "    \"num_fantasies\": 128,        # number of fantasies used by KG\n",
    "    \"beta\":1.,                   # used by UCB/qUCB\n",
    "               }\n",
    "\n",
    "bayes_opt = bayesian_optimiser(gp_name, gp_params, device, acq_params)"
   ]
  },
  {
   "cell_type": "code",
   "execution_count": 4,
   "metadata": {
    "scrolled": true
   },
   "outputs": [
    {
     "output_type": "stream",
     "name": "stdout",
     "text": [
      "NLML: -3.57\n",
      "Iter: 1, reward: -0.57\n",
      "NLML: 1.39\n",
      "Iter: 2, reward: -0.64\n",
      "NLML: -0.57\n",
      "Iter: 3, reward: -0.43\n",
      "NLML: -0.70\n",
      "Iter: 4, reward: -0.22\n",
      "NLML: -0.72\n",
      "Iter: 5, reward: -0.28\n",
      "NLML: -0.71\n",
      "Iter: 6, reward: -0.05\n",
      "NLML: -0.64\n",
      "Iter: 7, reward: -0.02\n",
      "NLML: -0.65\n",
      "Iter: 8, reward: -0.08\n",
      "NLML: -0.66\n",
      "Iter: 9, reward: -0.03\n",
      "NLML: -0.83\n",
      "Iter: 10, reward: -0.01\n",
      "NLML: -0.93\n",
      "Iter: 11, reward: -0.02\n",
      "NLML: -1.11\n",
      "Iter: 12, reward: -0.00\n",
      "NLML: -1.14\n",
      "Iter: 13, reward: -0.04\n",
      "NLML: -1.18\n",
      "Iter: 14, reward: -0.01\n",
      "NLML: -1.32\n",
      "Iter: 15, reward: -0.00\n",
      "NLML: -1.38\n",
      "Iter: 16, reward: -0.00\n",
      "NLML: -1.47\n",
      "Iter: 17, reward: -0.00\n",
      "NLML: -1.59\n",
      "Iter: 18, reward: -0.00\n",
      "NLML: -1.65\n",
      "Iter: 19, reward: -0.00\n",
      "NLML: -1.73\n",
      "Iter: 20, reward: -0.00\n",
      "CPU times: user 18 s, sys: 35.6 s, total: 53.6 s\n",
      "Wall time: 13.8 s\n"
     ]
    }
   ],
   "source": [
    "%%time\n",
    "xs, ys = bayes_opt.outer_loop(T, (-4,4),x0, y0, r0, api, batch_size)  # maximising reward"
   ]
  },
  {
   "cell_type": "code",
   "execution_count": 5,
   "metadata": {},
   "outputs": [],
   "source": [
    "tr.save((xs, ys, \"20_BO\"), \"./data/20_BO.pt\")"
   ]
  },
  {
   "cell_type": "code",
   "execution_count": null,
   "metadata": {},
   "outputs": [],
   "source": []
  }
 ],
 "metadata": {
  "kernelspec": {
   "display_name": "Python 3",
   "language": "python",
   "name": "python3"
  },
  "language_info": {
   "codemirror_mode": {
    "name": "ipython",
    "version": 3
   },
   "file_extension": ".py",
   "mimetype": "text/x-python",
   "name": "python",
   "nbconvert_exporter": "python",
   "pygments_lexer": "ipython3",
   "version": "3.8.3-final"
  }
 },
 "nbformat": 4,
 "nbformat_minor": 4
}